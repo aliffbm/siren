{
 "cells": [
  {
   "cell_type": "code",
   "execution_count": 1,
   "metadata": {},
   "outputs": [],
   "source": [
    "import numpy\n",
    "import urllib ## should use urllib.request for urlopen\n",
    "import ast\n",
    "import json\n",
    "import os\n",
    "import eyed3\n",
    "import sys\n",
    "import re\n",
    "\n",
    "from urllib.request import urlopen\n",
    "\n",
    "from PIL import Image\n",
    "import requests\n",
    "from io import BytesIO"
   ]
  },
  {
   "cell_type": "code",
   "execution_count": 2,
   "metadata": {},
   "outputs": [
    {
     "name": "stdout",
     "output_type": "stream",
     "text": [
      "['.ipynb_checkpoints', \"12. Marvin Gaye & Tammi Terrell - Ain't No Mountai.mp3\", 'Lukas Graham - Love Someone (Lyrics).mp3', 'main.ipynb', 'MANUALS', 'Mura Masa - What If I Go (Nighttime Version) ft. B.mp3', 'Music Thang.ipynb', 'README.md']\n"
     ]
    }
   ],
   "source": [
    "files = os.listdir(\".\")\n",
    "print(files)"
   ]
  },
  {
   "cell_type": "code",
   "execution_count": 3,
   "metadata": {},
   "outputs": [],
   "source": [
    "f = re.compile('.*.mp3')\n",
    "listOfMp3s = list(filter(f.match, files))"
   ]
  },
  {
   "cell_type": "code",
   "execution_count": 4,
   "metadata": {},
   "outputs": [
    {
     "data": {
      "text/plain": [
       "re.compile(r'.*.mp3', re.UNICODE)"
      ]
     },
     "execution_count": 4,
     "metadata": {},
     "output_type": "execute_result"
    }
   ],
   "source": [
    "f"
   ]
  },
  {
   "cell_type": "code",
   "execution_count": 32,
   "metadata": {},
   "outputs": [
    {
     "name": "stdout",
     "output_type": "stream",
     "text": [
      "0 12. Marvin Gaye & Tammi Terrell - Ain't No Mountai.mp3\n",
      "1 Lukas Graham - Love Someone (Lyrics).mp3\n",
      "2 Mura Masa - What If I Go (Nighttime Version) ft. B.mp3\n",
      "Enter song index: 2\n"
     ]
    }
   ],
   "source": [
    "counter = 0\n",
    "for i in listOfMp3s:\n",
    "    print(counter, i)\n",
    "    counter += 1\n",
    "    \n",
    "songIndex = int(input(\"Enter song index: \"))"
   ]
  },
  {
   "cell_type": "code",
   "execution_count": 33,
   "metadata": {},
   "outputs": [
    {
     "data": {
      "text/plain": [
       "'Mura Masa - What If I Go (Nighttime Version) ft. B.mp3'"
      ]
     },
     "execution_count": 33,
     "metadata": {},
     "output_type": "execute_result"
    }
   ],
   "source": [
    "listOfMp3s[songIndex]"
   ]
  },
  {
   "cell_type": "code",
   "execution_count": 40,
   "metadata": {},
   "outputs": [
    {
     "name": "stdout",
     "output_type": "stream",
     "text": [
      "Enter seach term: Mura Masa - What If I Go (Nighttime Version\n",
      "Mura+Masa+-+What+If+I+Go+(Nighttime+Version\n"
     ]
    }
   ],
   "source": [
    "#IF INPUT NULL, TAKE MP3 NAME\n",
    "\n",
    "songName = input(\"Enter seach term: \")\n",
    "if songName is \"\":\n",
    "    songName = listOfMp3s[songIndex].replace(\" - \", \" \")\n",
    "    songName = songName.replace(\"official\", \"\")\n",
    "    songName = songName.replace(\"Official\", \"\")\n",
    "    songName = songName.replace(\"&\", \"and\")\n",
    "    songName = songName.replace(\"lyrics\", \"\")\n",
    "    songName = songName.replace(\"Lyrics\", \"\")\n",
    "    songName = songName.replace(\"Music\", \"\")\n",
    "    songName = songName.replace(\"music\", \"\")\n",
    "    songName = songName.replace(\"HD\", \"\")\n",
    "    songName = songName.replace(\"HQ\", \"\")\n",
    "    songName = songName.replace(\"Audio\", \"\")\n",
    "    songName = songName.replace(\"audio\", \"\")\n",
    "    songName = songName.replace(\"Official\", \"\")\n",
    "    songName = songName.replace(\"Off\", \"\")\n",
    "    songName = songName.replace(\"Of\", \"\")\n",
    "    songName = songName.replace(\"of\", \"\")\n",
    "    songName = songName.replace(\"off\", \"\")\n",
    "    songName = songName.replace(\"official\", \"\")\n",
    "    songName = songName.replace(\"Video\", \"\")\n",
    "    songName = songName.replace(\"Produced\", \"\")\n",
    "    songName = songName.replace(\"Prod\", \"\")\n",
    "    songName = songName.replace(\"Remix\", \"\")\n",
    "    songName = songName.replace(\"remix\", \"\")\n",
    "    songName = songName.replace(\"dir\", \"\")\n",
    "    songName = songName.replace(\"Dir\", \"\")\n",
    "    songName = songName.replace(\"by\", \"\")\n",
    "\n",
    "    \n",
    "    songName = songName.replace(\"(\", \"\")\n",
    "    songName = songName.replace(\"[\", \"\")\n",
    "    songName = songName.replace(\"]\", \"\")\n",
    "    songName = songName.replace(\")\", \"\")\n",
    "    songName = songName.replace(\"{\", \"\")\n",
    "    songName = songName.replace(\"}\", \"\")\n",
    "    songName = songName.replace(\".\", \"\")\n",
    "    \n",
    "    songName = songName.replace(\"mp3\", \"\")\n",
    "    songName = songName.replace(\"Spotify\", \"\")\n",
    "    songName = songName.replace(\"Screen\", \"\")\n",
    "    songName = songName.replace(\"screen\", \"\")\n",
    "    songName = songName.replace(\"Ft\", \"\")\n",
    "    songName = songName.replace(\"ft\", \"\")\n",
    "    songName = songName.replace(\"Feat\", \"\")\n",
    "    songName = songName.replace(\"feat\", \"\")\n",
    "    songName = songName.replace(\"version\", \"\")\n",
    "    songName = songName.replace(\"Version\", \"\")\n",
    "    \n",
    "    songName = songName.replace(\"Explicit\", \"\")\n",
    "    songName = songName.replace(\"explicit\", \"\")\n",
    "\n",
    "\n",
    "    songName = songName.replace(\"   \", \" \")\n",
    "    songName = songName.replace(\"  \", \" \")\n",
    "\n",
    "\n",
    "\n",
    "\n",
    "songName = songName.replace(\" \", \"+\")\n",
    "\n",
    "print(songName)"
   ]
  },
  {
   "cell_type": "code",
   "execution_count": 41,
   "metadata": {},
   "outputs": [],
   "source": [
    "#data = [d for d in data if 'user/ageInSeconds' in d and d['user/ageInSeconds'] < 60*60*24*365*100]\n",
    "ituneURL = urllib.request.urlopen(\"https://itunes.apple.com/search?term=\"+songName+\"&limit=10&entity=song\")"
   ]
  },
  {
   "cell_type": "code",
   "execution_count": null,
   "metadata": {},
   "outputs": [],
   "source": []
  },
  {
   "cell_type": "code",
   "execution_count": 1,
   "metadata": {},
   "outputs": [
    {
     "ename": "NameError",
     "evalue": "name 'ituneURL' is not defined",
     "output_type": "error",
     "traceback": [
      "\u001b[1;31m---------------------------------------------------------------------------\u001b[0m",
      "\u001b[1;31mNameError\u001b[0m                                 Traceback (most recent call last)",
      "\u001b[1;32m<ipython-input-1-5f867345c0a2>\u001b[0m in \u001b[0;36m<module>\u001b[1;34m()\u001b[0m\n\u001b[1;32m----> 1\u001b[1;33m \u001b[0md\u001b[0m \u001b[1;33m=\u001b[0m \u001b[0mituneURL\u001b[0m\u001b[1;33m.\u001b[0m\u001b[0mread\u001b[0m\u001b[1;33m(\u001b[0m\u001b[1;33m)\u001b[0m\u001b[1;33m\u001b[0m\u001b[0m\n\u001b[0m\u001b[0;32m      2\u001b[0m \u001b[0md\u001b[0m\u001b[1;33m\u001b[0m\u001b[0m\n",
      "\u001b[1;31mNameError\u001b[0m: name 'ituneURL' is not defined"
     ]
    }
   ],
   "source": [
    "d = ituneURL.read()\n",
    "d"
   ]
  },
  {
   "cell_type": "code",
   "execution_count": 44,
   "metadata": {},
   "outputs": [],
   "source": [
    "encoding = ituneURL.info().get_content_charset('utf-8')\n",
    "json_obj = json.loads(d.decode(encoding))"
   ]
  },
  {
   "cell_type": "code",
   "execution_count": 45,
   "metadata": {},
   "outputs": [
    {
     "data": {
      "text/plain": [
       "{'resultCount': 1,\n",
       " 'results': [{'wrapperType': 'track',\n",
       "   'kind': 'song',\n",
       "   'artistId': 876778612,\n",
       "   'collectionId': 1322773813,\n",
       "   'trackId': 1322773819,\n",
       "   'artistName': 'Mura Masa',\n",
       "   'collectionName': 'What If I Go? (feat. Bonzai) [Nighttime Version] - Single',\n",
       "   'trackName': 'What If I Go? (feat. Bonzai)',\n",
       "   'collectionCensoredName': 'What If I Go? (feat. Bonzai) [Nighttime Version] - Single',\n",
       "   'trackCensoredName': 'What If I Go? (feat. Bonzai) [Nighttime Version]',\n",
       "   'artistViewUrl': 'https://itunes.apple.com/us/artist/mura-masa/876778612?uo=4',\n",
       "   'collectionViewUrl': 'https://itunes.apple.com/us/album/what-if-i-go-feat-bonzai-nighttime-version/1322773813?i=1322773819&uo=4',\n",
       "   'trackViewUrl': 'https://itunes.apple.com/us/album/what-if-i-go-feat-bonzai-nighttime-version/1322773813?i=1322773819&uo=4',\n",
       "   'previewUrl': 'https://audio-ssl.itunes.apple.com/apple-assets-us-std-000001/AudioPreview128/v4/73/d1/ff/73d1ff7e-9c0c-84af-dd4f-671b66a867c2/mzaf_3604996382495431237.plus.aac.p.m4a',\n",
       "   'artworkUrl30': 'https://is4-ssl.mzstatic.com/image/thumb/Music118/v4/ba/2f/b9/ba2fb9d3-cbc7-ecbd-ed8f-0b33686ae6c2/source/30x30bb.jpg',\n",
       "   'artworkUrl60': 'https://is4-ssl.mzstatic.com/image/thumb/Music118/v4/ba/2f/b9/ba2fb9d3-cbc7-ecbd-ed8f-0b33686ae6c2/source/60x60bb.jpg',\n",
       "   'artworkUrl100': 'https://is4-ssl.mzstatic.com/image/thumb/Music118/v4/ba/2f/b9/ba2fb9d3-cbc7-ecbd-ed8f-0b33686ae6c2/source/100x100bb.jpg',\n",
       "   'collectionPrice': 1.29,\n",
       "   'trackPrice': 1.29,\n",
       "   'releaseDate': '2017-12-15T08:00:00Z',\n",
       "   'collectionExplicitness': 'notExplicit',\n",
       "   'trackExplicitness': 'notExplicit',\n",
       "   'discCount': 1,\n",
       "   'discNumber': 1,\n",
       "   'trackCount': 1,\n",
       "   'trackNumber': 1,\n",
       "   'trackTimeMillis': 189156,\n",
       "   'country': 'USA',\n",
       "   'currency': 'USD',\n",
       "   'primaryGenreName': 'Electronic',\n",
       "   'isStreamable': True}]}"
      ]
     },
     "execution_count": 45,
     "metadata": {},
     "output_type": "execute_result"
    }
   ],
   "source": [
    "json_obj"
   ]
  },
  {
   "cell_type": "code",
   "execution_count": 46,
   "metadata": {},
   "outputs": [
    {
     "name": "stdout",
     "output_type": "stream",
     "text": [
      "What If I Go? (feat. Bonzai)  by  Mura Masa \n",
      " What If I Go? (feat. Bonzai) [Nighttime Version] - Single \n",
      "\n",
      "Enter result index: \n",
      "0\n"
     ]
    }
   ],
   "source": [
    "\n",
    "for i in range(len(json_obj[\"results\"])):\n",
    "    print(json_obj[\"results\"][i][\"trackName\"], \" by \", json_obj[\"results\"][i][\"artistName\"], \"\\n\", \n",
    "         json_obj[\"results\"][i][\"collectionName\"], \"\\n\")\n",
    "    \n",
    "\n",
    "jsonIndex = input(\"Enter result index: \")\n",
    "\n",
    "if jsonIndex is \"\":\n",
    "    jsonIndex = 0\n",
    "\n",
    "jsonIndex = int(jsonIndex)\n",
    "print(jsonIndex)"
   ]
  },
  {
   "cell_type": "code",
   "execution_count": 47,
   "metadata": {},
   "outputs": [
    {
     "name": "stdout",
     "output_type": "stream",
     "text": [
      "https://is4-ssl.mzstatic.com/image/thumb/Music118/v4/ba/2f/b9/ba2fb9d3-cbc7-ecbd-ed8f-0b33686ae6c2/source/800x800bb.jpg\n"
     ]
    }
   ],
   "source": [
    "imageURL = json_obj[\"results\"][jsonIndex][\"artworkUrl100\"]\n",
    "imageURL = imageURL.replace(\"100x100\", \"800x800\")\n",
    "\n",
    "print(imageURL)\n",
    "\n",
    "#imageArt = requests.get(imageURL)\n",
    "\n",
    "imageData = urlopen(imageURL)  \n",
    "imageArt = imageData.read()"
   ]
  },
  {
   "cell_type": "code",
   "execution_count": 48,
   "metadata": {},
   "outputs": [],
   "source": [
    "audiofile = eyed3.load(listOfMp3s[songIndex])\n",
    "\n",
    "\n",
    "audiofile.tag.artist = json_obj[\"results\"][jsonIndex][\"artistName\"]\n",
    "audiofile.tag.album = json_obj[\"results\"][jsonIndex][\"collectionName\"]\n",
    "audiofile.tag.title = json_obj[\"results\"][jsonIndex][\"trackName\"]\n",
    "audiofile.tag.track_num = (json_obj[\"results\"][jsonIndex][\"trackNumber\"], json_obj[\"results\"][jsonIndex][\"trackCount\"])\n",
    "audiofile.tag.images.remove(u'')\n",
    "audiofile.tag.images.set(1, imageArt , \"image/jpeg\" ,u\"Description\")\n",
    "audiofile.tag.genre = json_obj[\"results\"][jsonIndex][\"primaryGenreName\"]\n",
    "\n",
    "# ADD YEAR OF RELEASE, MORE TAG STUFF = MORE BETTER\n",
    "\n",
    "try:\n",
    "    audiofile.tag.album_artist = json_obj[\"results\"][jsonIndex][\"collectionArtistName\"]\n",
    "except:\n",
    "    audiofile.tag.album_artist = json_obj[\"results\"][jsonIndex][\"artistName\"]\n",
    "\n",
    "\n",
    "audiofile.tag.save(backup=False)\n"
   ]
  },
  {
   "cell_type": "code",
   "execution_count": 49,
   "metadata": {},
   "outputs": [
    {
     "name": "stdout",
     "output_type": "stream",
     "text": [
      "What If I Go? (feat. Bonzai)\n",
      "Mura Masa\n"
     ]
    }
   ],
   "source": [
    "print(audiofile.tag.title)\n",
    "print(audiofile.tag.album_artist)"
   ]
  },
  {
   "cell_type": "code",
   "execution_count": null,
   "metadata": {},
   "outputs": [],
   "source": []
  },
  {
   "cell_type": "code",
   "execution_count": null,
   "metadata": {},
   "outputs": [],
   "source": []
  },
  {
   "cell_type": "code",
   "execution_count": null,
   "metadata": {},
   "outputs": [],
   "source": []
  },
  {
   "cell_type": "code",
   "execution_count": null,
   "metadata": {},
   "outputs": [],
   "source": []
  },
  {
   "cell_type": "code",
   "execution_count": null,
   "metadata": {},
   "outputs": [],
   "source": []
  }
 ],
 "metadata": {
  "kernelspec": {
   "display_name": "Python 3",
   "language": "python",
   "name": "python3"
  },
  "language_info": {
   "codemirror_mode": {
    "name": "ipython",
    "version": 3
   },
   "file_extension": ".py",
   "mimetype": "text/x-python",
   "name": "python",
   "nbconvert_exporter": "python",
   "pygments_lexer": "ipython3",
   "version": "3.7.0"
  }
 },
 "nbformat": 4,
 "nbformat_minor": 2
}
