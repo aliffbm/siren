{
 "cells": [
  {
   "cell_type": "code",
   "execution_count": 209,
   "metadata": {},
   "outputs": [],
   "source": [
    "import numpy\n",
    "import urllib ## should use urllib.request for urlopen\n",
    "import ast\n",
    "import json\n",
    "import os\n",
    "import eyed3\n",
    "import sys\n",
    "import re\n",
    "\n",
    "from urllib.request import urlopen\n",
    "\n",
    "from PIL import Image\n",
    "import requests\n",
    "from io import BytesIO"
   ]
  },
  {
   "cell_type": "code",
   "execution_count": 210,
   "metadata": {},
   "outputs": [
    {
     "name": "stdout",
     "output_type": "stream",
     "text": [
      "['.git', '.ipynb_checkpoints', 'album.ipynb', 'Harry Styles - Sign of the Times (Lyrics) (2).mp3', 'Harry Styles - Sign of the Times (Lyrics).mp3', 'main.ipynb', 'MANUALS', 'POST', 'README.md']\n"
     ]
    }
   ],
   "source": [
    "files = os.listdir(\".\")\n",
    "print(files)"
   ]
  },
  {
   "cell_type": "code",
   "execution_count": 211,
   "metadata": {},
   "outputs": [],
   "source": [
    "f = re.compile('.*.mp3')\n",
    "listOfMp3s = list(filter(f.match, files))"
   ]
  },
  {
   "cell_type": "code",
   "execution_count": 212,
   "metadata": {},
   "outputs": [
    {
     "data": {
      "text/plain": [
       "re.compile(r'.*.mp3', re.UNICODE)"
      ]
     },
     "execution_count": 212,
     "metadata": {},
     "output_type": "execute_result"
    }
   ],
   "source": [
    "f"
   ]
  },
  {
   "cell_type": "code",
   "execution_count": 213,
   "metadata": {},
   "outputs": [
    {
     "name": "stdout",
     "output_type": "stream",
     "text": [
      "0 Harry Styles - Sign of the Times (Lyrics) (2).mp3\n",
      "1 Harry Styles - Sign of the Times (Lyrics).mp3\n",
      "Enter song index: 1\n"
     ]
    }
   ],
   "source": [
    "counter = 0\n",
    "for i in listOfMp3s:\n",
    "    print(counter, i)\n",
    "    counter += 1\n",
    "    \n",
    "songIndex = int(input(\"Enter song index: \"))"
   ]
  },
  {
   "cell_type": "code",
   "execution_count": 214,
   "metadata": {},
   "outputs": [
    {
     "data": {
      "text/plain": [
       "'Harry Styles - Sign of the Times (Lyrics).mp3'"
      ]
     },
     "execution_count": 214,
     "metadata": {},
     "output_type": "execute_result"
    }
   ],
   "source": [
    "listOfMp3s[songIndex]"
   ]
  },
  {
   "cell_type": "code",
   "execution_count": 215,
   "metadata": {},
   "outputs": [
    {
     "name": "stdout",
     "output_type": "stream",
     "text": [
      "Enter seach term: \n",
      "Harry+Styles+Sign+the+Times+\n"
     ]
    }
   ],
   "source": [
    "#IF INPUT NULL, TAKE MP3 NAME\n",
    "\n",
    "songName = input(\"Enter seach term: \")\n",
    "if songName is \"\":\n",
    "    songName = listOfMp3s[songIndex].replace(\" - \", \" \")\n",
    "    songName = songName.replace(\"official\", \"\")\n",
    "    songName = songName.replace(\"Official\", \"\")\n",
    "    songName = songName.replace(\"&\", \"and\")\n",
    "    songName = songName.replace(\"lyrics\", \"\")\n",
    "    songName = songName.replace(\"Lyrics\", \"\")\n",
    "    songName = songName.replace(\"Music\", \"\")\n",
    "    songName = songName.replace(\"music\", \"\")\n",
    "    songName = songName.replace(\"HD\", \"\")\n",
    "    songName = songName.replace(\"HQ\", \"\")\n",
    "    songName = songName.replace(\"Audio\", \"\")\n",
    "    songName = songName.replace(\"audio\", \"\")\n",
    "    songName = songName.replace(\"Official\", \"\")\n",
    "    songName = songName.replace(\"Off\", \"\")\n",
    "    songName = songName.replace(\"Of\", \"\")\n",
    "    songName = songName.replace(\"of\", \"\")\n",
    "    songName = songName.replace(\"off\", \"\")\n",
    "    songName = songName.replace(\"official\", \"\")\n",
    "    songName = songName.replace(\"Video\", \"\")\n",
    "    songName = songName.replace(\"Produced\", \"\")\n",
    "    songName = songName.replace(\"Prod\", \"\")\n",
    "    songName = songName.replace(\"Remix\", \"\")\n",
    "    songName = songName.replace(\"remix\", \"\")\n",
    "    songName = songName.replace(\"dir\", \"\")\n",
    "    songName = songName.replace(\"Dir\", \"\")\n",
    "    songName = songName.replace(\"by\", \"\")\n",
    "\n",
    "    \n",
    "    songName = songName.replace(\"(\", \"\")\n",
    "    songName = songName.replace(\"[\", \"\")\n",
    "    songName = songName.replace(\"]\", \"\")\n",
    "    songName = songName.replace(\")\", \"\")\n",
    "    songName = songName.replace(\"{\", \"\")\n",
    "    songName = songName.replace(\"}\", \"\")\n",
    "    songName = songName.replace(\".\", \"\")\n",
    "    \n",
    "    songName = songName.replace(\"mp3\", \"\")\n",
    "    songName = songName.replace(\"Spotify\", \"\")\n",
    "    songName = songName.replace(\"Screen\", \"\")\n",
    "    songName = songName.replace(\"screen\", \"\")\n",
    "    songName = songName.replace(\"Ft\", \"\")\n",
    "    songName = songName.replace(\"ft\", \"\")\n",
    "    songName = songName.replace(\"Feat\", \"\")\n",
    "    songName = songName.replace(\"feat\", \"\")\n",
    "    songName = songName.replace(\"version\", \"\")\n",
    "    songName = songName.replace(\"Version\", \"\")\n",
    "    \n",
    "    songName = songName.replace(\"Explicit\", \"\")\n",
    "    songName = songName.replace(\"explicit\", \"\")\n",
    "\n",
    "\n",
    "    songName = songName.replace(\"   \", \" \")\n",
    "    songName = songName.replace(\"  \", \" \")\n",
    "\n",
    "\n",
    "\n",
    "\n",
    "songName = songName.replace(\" \", \"+\")\n",
    "\n",
    "print(songName)"
   ]
  },
  {
   "cell_type": "code",
   "execution_count": 216,
   "metadata": {},
   "outputs": [],
   "source": [
    "#data = [d for d in data if 'user/ageInSeconds' in d and d['user/ageInSeconds'] < 60*60*24*365*100]\n",
    "ituneURL = urllib.request.urlopen(\"https://itunes.apple.com/search?term=\"+songName+\"&limit=10&entity=song\")"
   ]
  },
  {
   "cell_type": "code",
   "execution_count": null,
   "metadata": {},
   "outputs": [],
   "source": []
  },
  {
   "cell_type": "code",
   "execution_count": 217,
   "metadata": {},
   "outputs": [],
   "source": [
    "d = ituneURL.read()"
   ]
  },
  {
   "cell_type": "code",
   "execution_count": 218,
   "metadata": {},
   "outputs": [
    {
     "data": {
      "text/plain": [
       "b'\\n\\n\\n{\\n \"resultCount\":10,\\n \"results\": [\\n{\"wrapperType\":\"track\", \"kind\":\"song\", \"artistId\":471260289, \"collectionId\":1226034336, \"trackId\":1226034393, \"artistName\":\"Harry Styles\", \"collectionName\":\"Harry Styles\", \"trackName\":\"Sign of the Times\", \"collectionCensoredName\":\"Harry Styles\", \"trackCensoredName\":\"Sign of the Times\", \"artistViewUrl\":\"https://itunes.apple.com/us/artist/harry-styles/471260289?uo=4\", \"collectionViewUrl\":\"https://itunes.apple.com/us/album/sign-of-the-times/1226034336?i=1226034393&uo=4\", \"trackViewUrl\":\"https://itunes.apple.com/us/album/sign-of-the-times/1226034336?i=1226034393&uo=4\", \\n\"previewUrl\":\"https://audio-ssl.itunes.apple.com/apple-assets-us-std-000001/AudioPreview127/v4/2f/66/71/2f6671ab-482a-99c4-6aba-41b1c608d637/mzaf_5589980244851838569.plus.aac.p.m4a\", \"artworkUrl30\":\"https://is4-ssl.mzstatic.com/image/thumb/Music111/v4/b2/fe/66/b2fe6680-b4e3-662c-bd57-004a066146fa/source/30x30bb.jpg\", \"artworkUrl60\":\"https://is4-ssl.mzstatic.com/image/thumb/Music111/v4/b2/fe/66/b2fe6680-b4e3-662c-bd57-004a066146fa/source/60x60bb.jpg\", \"artworkUrl100\":\"https://is4-ssl.mzstatic.com/image/thumb/Music111/v4/b2/fe/66/b2fe6680-b4e3-662c-bd57-004a066146fa/source/100x100bb.jpg\", \"collectionPrice\":9.99, \"trackPrice\":1.29, \"releaseDate\":\"2017-04-07T07:00:00Z\", \"collectionExplicitness\":\"notExplicit\", \"trackExplicitness\":\"notExplicit\", \"discCount\":1, \"discNumber\":1, \"trackCount\":10, \"trackNumber\":2, \"trackTimeMillis\":340707, \"country\":\"USA\", \"currency\":\"USD\", \"primaryGenreName\":\"Pop\", \"isStreamable\":true}, \\n{\"wrapperType\":\"track\", \"kind\":\"song\", \"artistId\":420694588, \"collectionId\":1256025199, \"trackId\":1256025497, \"artistName\":\"The Key of Awesome\", \"collectionName\":\"\\\\\"Sign of the Times\\\\\" Parody of Harry Styles\\' \\\\\"Sign of the Times\\\\\" - Single\", \"trackName\":\"\\\\\"Sign of the Times\\\\\" Parody of Harry Styles\\' \\\\\"Sign of the Times\\\\\"\", \"collectionCensoredName\":\"\\\\\"Sign of the Times\\\\\" Parody of Harry Styles\\' \\\\\"Sign of the Times\\\\\" - Single\", \"trackCensoredName\":\"\\\\\"Sign of the Times\\\\\" Parody of Harry Styles\\' \\\\\"Sign of the Times\\\\\"\", \"artistViewUrl\":\"https://itunes.apple.com/us/artist/the-key-of-awesome/420694588?uo=4\", \"collectionViewUrl\":\"https://itunes.apple.com/us/album/sign-of-the-times-parody-of-harry-styles-sign-of-the-times/1256025199?i=1256025497&uo=4\", \"trackViewUrl\":\"https://itunes.apple.com/us/album/sign-of-the-times-parody-of-harry-styles-sign-of-the-times/1256025199?i=1256025497&uo=4\", \\n\"previewUrl\":\"https://audio-ssl.itunes.apple.com/apple-assets-us-std-000001/AudioPreview117/v4/17/6a/29/176a2975-24f5-aef1-4d12-05fa81038436/mzaf_9215354300325224206.plus.aac.p.m4a\", \"artworkUrl30\":\"https://is1-ssl.mzstatic.com/image/thumb/Music127/v4/40/45/31/40453118-7390-b7a8-5c32-d24f9245d4de/source/30x30bb.jpg\", \"artworkUrl60\":\"https://is1-ssl.mzstatic.com/image/thumb/Music127/v4/40/45/31/40453118-7390-b7a8-5c32-d24f9245d4de/source/60x60bb.jpg\", \"artworkUrl100\":\"https://is1-ssl.mzstatic.com/image/thumb/Music127/v4/40/45/31/40453118-7390-b7a8-5c32-d24f9245d4de/source/100x100bb.jpg\", \"collectionPrice\":1.29, \"trackPrice\":1.29, \"releaseDate\":\"2017-07-05T07:00:00Z\", \"collectionExplicitness\":\"notExplicit\", \"trackExplicitness\":\"notExplicit\", \"discCount\":1, \"discNumber\":1, \"trackCount\":1, \"trackNumber\":1, \"trackTimeMillis\":246694, \"country\":\"USA\", \"currency\":\"USD\", \"primaryGenreName\":\"Comedy\", \"isStreamable\":true}, \\n{\"wrapperType\":\"track\", \"kind\":\"song\", \"artistId\":6367618, \"collectionId\":432544383, \"trackId\":432544384, \"artistName\":\"Stimulator\", \"collectionName\":\"Mad World (feat. Susan Hyatt & Syndicate 17) - Single\", \"trackName\":\"Mad World (feat. Susan Hyatt & Syndicate 17)\", \"collectionCensoredName\":\"Mad World (feat. Susan Hyatt & Syndicate 17) - Single\", \"trackCensoredName\":\"Mad World (feat. Susan Hyatt & Syndicate 17)\", \"artistViewUrl\":\"https://itunes.apple.com/us/artist/stimulator/6367618?uo=4\", \"collectionViewUrl\":\"https://itunes.apple.com/us/album/mad-world-feat-susan-hyatt-syndicate-17/432544383?i=432544384&uo=4\", \"trackViewUrl\":\"https://itunes.apple.com/us/album/mad-world-feat-susan-hyatt-syndicate-17/432544383?i=432544384&uo=4\", \"previewUrl\":\"https://audio-ssl.itunes.apple.com/apple-assets-us-std-000001/Music/28/0d/a2/mzm.penfvwtx.aac.p.m4a\", \"artworkUrl30\":\"https://is1-ssl.mzstatic.com/image/thumb/Music/v4/cb/2b/3d/cb2b3d13-79be-223e-21a0-297fc149882d/source/30x30bb.jpg\", \"artworkUrl60\":\"https://is1-ssl.mzstatic.com/image/thumb/Music/v4/cb/2b/3d/cb2b3d13-79be-223e-21a0-297fc149882d/source/60x60bb.jpg\", \"artworkUrl100\":\"https://is1-ssl.mzstatic.com/image/thumb/Music/v4/cb/2b/3d/cb2b3d13-79be-223e-21a0-297fc149882d/source/100x100bb.jpg\", \"collectionPrice\":0.99, \"trackPrice\":0.99, \"releaseDate\":\"2011-03-15T07:00:00Z\", \"collectionExplicitness\":\"notExplicit\", \"trackExplicitness\":\"notExplicit\", \"discCount\":1, \"discNumber\":1, \"trackCount\":1, \"trackNumber\":1, \"trackTimeMillis\":215600, \"country\":\"USA\", \"currency\":\"USD\", \"primaryGenreName\":\"Rock\", \"isStreamable\":true}, \\n{\"wrapperType\":\"track\", \"kind\":\"song\", \"artistId\":886034853, \"collectionId\":1246341656, \"trackId\":1246341796, \"artistName\":\"Molotov Cocktail Piano\", \"collectionName\":\"MCP Performs Harry Styles (Instrumental)\", \"trackName\":\"Sign of the Times\", \"collectionCensoredName\":\"MCP Performs Harry Styles (Instrumental)\", \"trackCensoredName\":\"Sign of the Times (Instrumental)\", \"artistViewUrl\":\"https://itunes.apple.com/us/artist/molotov-cocktail-piano/886034853?uo=4\", \"collectionViewUrl\":\"https://itunes.apple.com/us/album/sign-of-the-times-instrumental/1246341656?i=1246341796&uo=4\", \"trackViewUrl\":\"https://itunes.apple.com/us/album/sign-of-the-times-instrumental/1246341656?i=1246341796&uo=4\", \\n\"previewUrl\":\"https://audio-ssl.itunes.apple.com/apple-assets-us-std-000001/AudioPreview127/v4/b3/86/73/b38673f8-e86c-8a4f-6604-95239254d146/mzaf_4851381318675857073.plus.aac.p.m4a\", \"artworkUrl30\":\"https://is4-ssl.mzstatic.com/image/thumb/Music117/v4/95/2c/eb/952ceb28-f629-8ebd-722c-c81ae7c0d4ed/source/30x30bb.jpg\", \"artworkUrl60\":\"https://is4-ssl.mzstatic.com/image/thumb/Music117/v4/95/2c/eb/952ceb28-f629-8ebd-722c-c81ae7c0d4ed/source/60x60bb.jpg\", \"artworkUrl100\":\"https://is4-ssl.mzstatic.com/image/thumb/Music117/v4/95/2c/eb/952ceb28-f629-8ebd-722c-c81ae7c0d4ed/source/100x100bb.jpg\", \"collectionPrice\":9.90, \"trackPrice\":0.99, \"releaseDate\":\"2017-05-26T07:00:00Z\", \"collectionExplicitness\":\"notExplicit\", \"trackExplicitness\":\"notExplicit\", \"discCount\":1, \"discNumber\":1, \"trackCount\":10, \"trackNumber\":2, \"trackTimeMillis\":335359, \"country\":\"USA\", \"currency\":\"USD\", \"primaryGenreName\":\"Instrumental\", \"isStreamable\":true}, \\n{\"wrapperType\":\"track\", \"kind\":\"song\", \"artistId\":426759306, \"collectionId\":426759300, \"trackId\":426759314, \"artistName\":\"Syndicate 17\", \"collectionName\":\"Mad World (feat. Susan Hyatt) - Single\", \"trackName\":\"Mad World (feat. Susan Hyatt)\", \"collectionCensoredName\":\"Mad World (feat. Susan Hyatt) - Single\", \"trackCensoredName\":\"Mad World (feat. Susan Hyatt)\", \"artistViewUrl\":\"https://itunes.apple.com/us/artist/syndicate-17/426759306?uo=4\", \"collectionViewUrl\":\"https://itunes.apple.com/us/album/mad-world-feat-susan-hyatt/426759300?i=426759314&uo=4\", \"trackViewUrl\":\"https://itunes.apple.com/us/album/mad-world-feat-susan-hyatt/426759300?i=426759314&uo=4\", \"previewUrl\":\"https://audio-ssl.itunes.apple.com/apple-assets-us-std-000001/Music/28/0d/a2/mzm.ennxwoop.aac.p.m4a\", \"artworkUrl30\":\"https://is2-ssl.mzstatic.com/image/thumb/Music/v4/ec/cd/d9/eccdd9db-042d-895c-064c-b121025396ed/source/30x30bb.jpg\", \"artworkUrl60\":\"https://is2-ssl.mzstatic.com/image/thumb/Music/v4/ec/cd/d9/eccdd9db-042d-895c-064c-b121025396ed/source/60x60bb.jpg\", \"artworkUrl100\":\"https://is2-ssl.mzstatic.com/image/thumb/Music/v4/ec/cd/d9/eccdd9db-042d-895c-064c-b121025396ed/source/100x100bb.jpg\", \"collectionPrice\":0.99, \"trackPrice\":0.99, \"releaseDate\":\"2011-03-15T07:00:00Z\", \"collectionExplicitness\":\"notExplicit\", \"trackExplicitness\":\"notExplicit\", \"discCount\":1, \"discNumber\":1, \"trackCount\":1, \"trackNumber\":1, \"trackTimeMillis\":215600, \"country\":\"USA\", \"currency\":\"USD\", \"primaryGenreName\":\"Rock\", \"isStreamable\":true}, \\n{\"wrapperType\":\"track\", \"kind\":\"song\", \"artistId\":898452408, \"collectionId\":1213478784, \"trackId\":1213479047, \"artistName\":\"RichaadEB\", \"collectionName\":\"Guren No Yumiya - Single\", \"trackName\":\"Guren No Yumiya\", \"collectionCensoredName\":\"Guren No Yumiya - Single\", \"trackCensoredName\":\"Guren No Yumiya\", \"artistViewUrl\":\"https://itunes.apple.com/us/artist/richaadeb/898452408?uo=4\", \"collectionViewUrl\":\"https://itunes.apple.com/us/album/guren-no-yumiya/1213478784?i=1213479047&uo=4\", \"trackViewUrl\":\"https://itunes.apple.com/us/album/guren-no-yumiya/1213478784?i=1213479047&uo=4\", \\n\"previewUrl\":\"https://audio-ssl.itunes.apple.com/apple-assets-us-std-000001/AudioPreview122/v4/16/c9/7d/16c97db3-01ea-f28e-c5b6-a004cbb3dd36/mzaf_2224101234861359792.plus.aac.p.m4a\", \"artworkUrl30\":\"https://is2-ssl.mzstatic.com/image/thumb/Music122/v4/98/e9/2b/98e92b64-fb26-b342-807e-66118e32816e/source/30x30bb.jpg\", \"artworkUrl60\":\"https://is2-ssl.mzstatic.com/image/thumb/Music122/v4/98/e9/2b/98e92b64-fb26-b342-807e-66118e32816e/source/60x60bb.jpg\", \"artworkUrl100\":\"https://is2-ssl.mzstatic.com/image/thumb/Music122/v4/98/e9/2b/98e92b64-fb26-b342-807e-66118e32816e/source/100x100bb.jpg\", \"collectionPrice\":0.99, \"trackPrice\":0.99, \"releaseDate\":\"2017-03-08T08:00:00Z\", \"collectionExplicitness\":\"notExplicit\", \"trackExplicitness\":\"notExplicit\", \"discCount\":1, \"discNumber\":1, \"trackCount\":1, \"trackNumber\":1, \"trackTimeMillis\":94075, \"country\":\"USA\", \"currency\":\"USD\", \"primaryGenreName\":\"Metal\", \"isStreamable\":true}, \\n{\"wrapperType\":\"track\", \"kind\":\"song\", \"artistId\":710009786, \"collectionId\":1244364228, \"trackId\":1244364438, \"artistName\":\"Midnite String Quartet\", \"collectionName\":\"MSQ Performs Harry Styles Sign of the Times - Single\", \"trackName\":\"Sign of the Times\", \"collectionCensoredName\":\"MSQ Performs Harry Styles Sign of the Times - Single\", \"trackCensoredName\":\"Sign of the Times\", \"artistViewUrl\":\"https://itunes.apple.com/us/artist/midnite-string-quartet/710009786?uo=4\", \"collectionViewUrl\":\"https://itunes.apple.com/us/album/sign-of-the-times/1244364228?i=1244364438&uo=4\", \"trackViewUrl\":\"https://itunes.apple.com/us/album/sign-of-the-times/1244364228?i=1244364438&uo=4\", \\n\"previewUrl\":\"https://audio-ssl.itunes.apple.com/apple-assets-us-std-000001/AudioPreview127/v4/a3/2d/97/a32d976d-6299-70af-02db-461c9e477586/mzaf_2506704602111551082.plus.aac.p.m4a\", \"artworkUrl30\":\"https://is5-ssl.mzstatic.com/image/thumb/Music117/v4/32/56/7c/32567cdf-6acb-f412-6dad-5bc9fcef9e94/source/30x30bb.jpg\", \"artworkUrl60\":\"https://is5-ssl.mzstatic.com/image/thumb/Music117/v4/32/56/7c/32567cdf-6acb-f412-6dad-5bc9fcef9e94/source/60x60bb.jpg\", \"artworkUrl100\":\"https://is5-ssl.mzstatic.com/image/thumb/Music117/v4/32/56/7c/32567cdf-6acb-f412-6dad-5bc9fcef9e94/source/100x100bb.jpg\", \"collectionPrice\":1.29, \"trackPrice\":1.29, \"releaseDate\":\"2017-06-16T07:00:00Z\", \"collectionExplicitness\":\"notExplicit\", \"trackExplicitness\":\"notExplicit\", \"discCount\":1, \"discNumber\":1, \"trackCount\":1, \"trackNumber\":1, \"trackTimeMillis\":296386, \"country\":\"USA\", \"currency\":\"USD\", \"primaryGenreName\":\"Rock\", \"isStreamable\":true}, \\n{\"wrapperType\":\"track\", \"kind\":\"song\", \"artistId\":326291147, \"collectionId\":1326326433, \"trackId\":1326327564, \"artistName\":\"Michael Forster\", \"collectionName\":\"Piano Chill\", \"trackName\":\"Sign of the Times\", \"collectionCensoredName\":\"Piano Chill\", \"trackCensoredName\":\"Sign of the Times (Piano Version)\", \"artistViewUrl\":\"https://itunes.apple.com/us/artist/michael-forster/326291147?uo=4\", \"collectionViewUrl\":\"https://itunes.apple.com/us/album/sign-of-the-times-piano-version/1326326433?i=1326327564&uo=4\", \"trackViewUrl\":\"https://itunes.apple.com/us/album/sign-of-the-times-piano-version/1326326433?i=1326327564&uo=4\", \\n\"previewUrl\":\"https://audio-ssl.itunes.apple.com/apple-assets-us-std-000001/AudioPreview128/v4/0d/ac/e6/0dace620-6a1d-a493-e9fc-2c2b3da8083f/mzaf_4716470633389636261.plus.aac.p.m4a\", \"artworkUrl30\":\"https://is3-ssl.mzstatic.com/image/thumb/Music118/v4/09/37/e0/0937e074-5dd0-cd84-6933-8a5b2a27b542/source/30x30bb.jpg\", \"artworkUrl60\":\"https://is3-ssl.mzstatic.com/image/thumb/Music118/v4/09/37/e0/0937e074-5dd0-cd84-6933-8a5b2a27b542/source/60x60bb.jpg\", \"artworkUrl100\":\"https://is3-ssl.mzstatic.com/image/thumb/Music118/v4/09/37/e0/0937e074-5dd0-cd84-6933-8a5b2a27b542/source/100x100bb.jpg\", \"collectionPrice\":13.99, \"trackPrice\":1.29, \"releaseDate\":\"2018-02-23T08:00:00Z\", \"collectionExplicitness\":\"notExplicit\", \"trackExplicitness\":\"notExplicit\", \"discCount\":1, \"discNumber\":1, \"trackCount\":17, \"trackNumber\":8, \"trackTimeMillis\":167134, \"country\":\"USA\", \"currency\":\"USD\", \"primaryGenreName\":\"Classical Crossover\", \"isStreamable\":true}, \\n{\"wrapperType\":\"track\", \"kind\":\"song\", \"artistId\":4312819, \"collectionId\":1253595069, \"trackId\":1253595783, \"artistName\":\"Paul Cardall\", \"collectionName\":\"Sign of the Times - Single\", \"trackName\":\"Sign of the Times\", \"collectionCensoredName\":\"Sign of the Times - Single\", \"trackCensoredName\":\"Sign of the Times\", \"artistViewUrl\":\"https://itunes.apple.com/us/artist/paul-cardall/4312819?uo=4\", \"collectionViewUrl\":\"https://itunes.apple.com/us/album/sign-of-the-times/1253595069?i=1253595783&uo=4\", \"trackViewUrl\":\"https://itunes.apple.com/us/album/sign-of-the-times/1253595069?i=1253595783&uo=4\", \\n\"previewUrl\":\"https://audio-ssl.itunes.apple.com/apple-assets-us-std-000001/AudioPreview117/v4/0d/c4/e0/0dc4e011-be1d-161a-32ae-dcd8a37e6d80/mzaf_1486793708326610821.plus.aac.p.m4a\", \"artworkUrl30\":\"https://is2-ssl.mzstatic.com/image/thumb/Music127/v4/84/9b/87/849b87d2-abd9-f150-da7f-a29931ba8f56/source/30x30bb.jpg\", \"artworkUrl60\":\"https://is2-ssl.mzstatic.com/image/thumb/Music127/v4/84/9b/87/849b87d2-abd9-f150-da7f-a29931ba8f56/source/60x60bb.jpg\", \"artworkUrl100\":\"https://is2-ssl.mzstatic.com/image/thumb/Music127/v4/84/9b/87/849b87d2-abd9-f150-da7f-a29931ba8f56/source/100x100bb.jpg\", \"collectionPrice\":0.99, \"trackPrice\":0.99, \"releaseDate\":\"2017-06-23T07:00:00Z\", \"collectionExplicitness\":\"notExplicit\", \"trackExplicitness\":\"notExplicit\", \"discCount\":1, \"discNumber\":1, \"trackCount\":1, \"trackNumber\":1, \"trackTimeMillis\":251012, \"country\":\"USA\", \"currency\":\"USD\", \"primaryGenreName\":\"Classical Crossover\", \"isStreamable\":true}, \\n{\"wrapperType\":\"track\", \"kind\":\"song\", \"artistId\":1314899232, \"collectionId\":1314898258, \"trackId\":1314899238, \"artistName\":\"Ohlala Band\", \"collectionName\":\"Ohlala #7Senses (Live)\", \"trackName\":\"Sign of the Times\", \"collectionCensoredName\":\"Ohlala #7Senses (Live)\", \"trackCensoredName\":\"Sign of the Times (Live)\", \"artistViewUrl\":\"https://itunes.apple.com/us/artist/ohlala-band/1314899232?uo=4\", \"collectionViewUrl\":\"https://itunes.apple.com/us/album/sign-of-the-times-live/1314898258?i=1314899238&uo=4\", \"trackViewUrl\":\"https://itunes.apple.com/us/album/sign-of-the-times-live/1314898258?i=1314899238&uo=4\", \\n\"previewUrl\":\"https://audio-ssl.itunes.apple.com/apple-assets-us-std-000001/AudioPreview128/v4/88/4e/52/884e521a-67ba-1074-40a3-18e5a4ea3248/mzaf_7482987119709466654.plus.aac.p.m4a\", \"artworkUrl30\":\"https://is4-ssl.mzstatic.com/image/thumb/Music128/v4/4b/7d/65/4b7d650b-3760-efed-8545-184295555373/source/30x30bb.jpg\", \"artworkUrl60\":\"https://is4-ssl.mzstatic.com/image/thumb/Music128/v4/4b/7d/65/4b7d650b-3760-efed-8545-184295555373/source/60x60bb.jpg\", \"artworkUrl100\":\"https://is4-ssl.mzstatic.com/image/thumb/Music128/v4/4b/7d/65/4b7d650b-3760-efed-8545-184295555373/source/100x100bb.jpg\", \"collectionPrice\":6.90, \"trackPrice\":0.69, \"releaseDate\":\"2017-12-01T08:00:00Z\", \"collectionExplicitness\":\"notExplicit\", \"trackExplicitness\":\"notExplicit\", \"discCount\":1, \"discNumber\":1, \"trackCount\":10, \"trackNumber\":2, \"trackTimeMillis\":408665, \"country\":\"USA\", \"currency\":\"USD\", \"primaryGenreName\":\"Musicals\", \"isStreamable\":true}]\\n}\\n\\n\\n'"
      ]
     },
     "execution_count": 218,
     "metadata": {},
     "output_type": "execute_result"
    }
   ],
   "source": [
    "d"
   ]
  },
  {
   "cell_type": "code",
   "execution_count": 219,
   "metadata": {},
   "outputs": [],
   "source": [
    "encoding = ituneURL.info().get_content_charset('utf-8')\n",
    "json_obj = json.loads(d.decode(encoding))"
   ]
  },
  {
   "cell_type": "code",
   "execution_count": 220,
   "metadata": {},
   "outputs": [
    {
     "data": {
      "text/plain": [
       "{'resultCount': 10,\n",
       " 'results': [{'wrapperType': 'track',\n",
       "   'kind': 'song',\n",
       "   'artistId': 471260289,\n",
       "   'collectionId': 1226034336,\n",
       "   'trackId': 1226034393,\n",
       "   'artistName': 'Harry Styles',\n",
       "   'collectionName': 'Harry Styles',\n",
       "   'trackName': 'Sign of the Times',\n",
       "   'collectionCensoredName': 'Harry Styles',\n",
       "   'trackCensoredName': 'Sign of the Times',\n",
       "   'artistViewUrl': 'https://itunes.apple.com/us/artist/harry-styles/471260289?uo=4',\n",
       "   'collectionViewUrl': 'https://itunes.apple.com/us/album/sign-of-the-times/1226034336?i=1226034393&uo=4',\n",
       "   'trackViewUrl': 'https://itunes.apple.com/us/album/sign-of-the-times/1226034336?i=1226034393&uo=4',\n",
       "   'previewUrl': 'https://audio-ssl.itunes.apple.com/apple-assets-us-std-000001/AudioPreview127/v4/2f/66/71/2f6671ab-482a-99c4-6aba-41b1c608d637/mzaf_5589980244851838569.plus.aac.p.m4a',\n",
       "   'artworkUrl30': 'https://is4-ssl.mzstatic.com/image/thumb/Music111/v4/b2/fe/66/b2fe6680-b4e3-662c-bd57-004a066146fa/source/30x30bb.jpg',\n",
       "   'artworkUrl60': 'https://is4-ssl.mzstatic.com/image/thumb/Music111/v4/b2/fe/66/b2fe6680-b4e3-662c-bd57-004a066146fa/source/60x60bb.jpg',\n",
       "   'artworkUrl100': 'https://is4-ssl.mzstatic.com/image/thumb/Music111/v4/b2/fe/66/b2fe6680-b4e3-662c-bd57-004a066146fa/source/100x100bb.jpg',\n",
       "   'collectionPrice': 9.99,\n",
       "   'trackPrice': 1.29,\n",
       "   'releaseDate': '2017-04-07T07:00:00Z',\n",
       "   'collectionExplicitness': 'notExplicit',\n",
       "   'trackExplicitness': 'notExplicit',\n",
       "   'discCount': 1,\n",
       "   'discNumber': 1,\n",
       "   'trackCount': 10,\n",
       "   'trackNumber': 2,\n",
       "   'trackTimeMillis': 340707,\n",
       "   'country': 'USA',\n",
       "   'currency': 'USD',\n",
       "   'primaryGenreName': 'Pop',\n",
       "   'isStreamable': True},\n",
       "  {'wrapperType': 'track',\n",
       "   'kind': 'song',\n",
       "   'artistId': 420694588,\n",
       "   'collectionId': 1256025199,\n",
       "   'trackId': 1256025497,\n",
       "   'artistName': 'The Key of Awesome',\n",
       "   'collectionName': '\"Sign of the Times\" Parody of Harry Styles\\' \"Sign of the Times\" - Single',\n",
       "   'trackName': '\"Sign of the Times\" Parody of Harry Styles\\' \"Sign of the Times\"',\n",
       "   'collectionCensoredName': '\"Sign of the Times\" Parody of Harry Styles\\' \"Sign of the Times\" - Single',\n",
       "   'trackCensoredName': '\"Sign of the Times\" Parody of Harry Styles\\' \"Sign of the Times\"',\n",
       "   'artistViewUrl': 'https://itunes.apple.com/us/artist/the-key-of-awesome/420694588?uo=4',\n",
       "   'collectionViewUrl': 'https://itunes.apple.com/us/album/sign-of-the-times-parody-of-harry-styles-sign-of-the-times/1256025199?i=1256025497&uo=4',\n",
       "   'trackViewUrl': 'https://itunes.apple.com/us/album/sign-of-the-times-parody-of-harry-styles-sign-of-the-times/1256025199?i=1256025497&uo=4',\n",
       "   'previewUrl': 'https://audio-ssl.itunes.apple.com/apple-assets-us-std-000001/AudioPreview117/v4/17/6a/29/176a2975-24f5-aef1-4d12-05fa81038436/mzaf_9215354300325224206.plus.aac.p.m4a',\n",
       "   'artworkUrl30': 'https://is1-ssl.mzstatic.com/image/thumb/Music127/v4/40/45/31/40453118-7390-b7a8-5c32-d24f9245d4de/source/30x30bb.jpg',\n",
       "   'artworkUrl60': 'https://is1-ssl.mzstatic.com/image/thumb/Music127/v4/40/45/31/40453118-7390-b7a8-5c32-d24f9245d4de/source/60x60bb.jpg',\n",
       "   'artworkUrl100': 'https://is1-ssl.mzstatic.com/image/thumb/Music127/v4/40/45/31/40453118-7390-b7a8-5c32-d24f9245d4de/source/100x100bb.jpg',\n",
       "   'collectionPrice': 1.29,\n",
       "   'trackPrice': 1.29,\n",
       "   'releaseDate': '2017-07-05T07:00:00Z',\n",
       "   'collectionExplicitness': 'notExplicit',\n",
       "   'trackExplicitness': 'notExplicit',\n",
       "   'discCount': 1,\n",
       "   'discNumber': 1,\n",
       "   'trackCount': 1,\n",
       "   'trackNumber': 1,\n",
       "   'trackTimeMillis': 246694,\n",
       "   'country': 'USA',\n",
       "   'currency': 'USD',\n",
       "   'primaryGenreName': 'Comedy',\n",
       "   'isStreamable': True},\n",
       "  {'wrapperType': 'track',\n",
       "   'kind': 'song',\n",
       "   'artistId': 6367618,\n",
       "   'collectionId': 432544383,\n",
       "   'trackId': 432544384,\n",
       "   'artistName': 'Stimulator',\n",
       "   'collectionName': 'Mad World (feat. Susan Hyatt & Syndicate 17) - Single',\n",
       "   'trackName': 'Mad World (feat. Susan Hyatt & Syndicate 17)',\n",
       "   'collectionCensoredName': 'Mad World (feat. Susan Hyatt & Syndicate 17) - Single',\n",
       "   'trackCensoredName': 'Mad World (feat. Susan Hyatt & Syndicate 17)',\n",
       "   'artistViewUrl': 'https://itunes.apple.com/us/artist/stimulator/6367618?uo=4',\n",
       "   'collectionViewUrl': 'https://itunes.apple.com/us/album/mad-world-feat-susan-hyatt-syndicate-17/432544383?i=432544384&uo=4',\n",
       "   'trackViewUrl': 'https://itunes.apple.com/us/album/mad-world-feat-susan-hyatt-syndicate-17/432544383?i=432544384&uo=4',\n",
       "   'previewUrl': 'https://audio-ssl.itunes.apple.com/apple-assets-us-std-000001/Music/28/0d/a2/mzm.penfvwtx.aac.p.m4a',\n",
       "   'artworkUrl30': 'https://is1-ssl.mzstatic.com/image/thumb/Music/v4/cb/2b/3d/cb2b3d13-79be-223e-21a0-297fc149882d/source/30x30bb.jpg',\n",
       "   'artworkUrl60': 'https://is1-ssl.mzstatic.com/image/thumb/Music/v4/cb/2b/3d/cb2b3d13-79be-223e-21a0-297fc149882d/source/60x60bb.jpg',\n",
       "   'artworkUrl100': 'https://is1-ssl.mzstatic.com/image/thumb/Music/v4/cb/2b/3d/cb2b3d13-79be-223e-21a0-297fc149882d/source/100x100bb.jpg',\n",
       "   'collectionPrice': 0.99,\n",
       "   'trackPrice': 0.99,\n",
       "   'releaseDate': '2011-03-15T07:00:00Z',\n",
       "   'collectionExplicitness': 'notExplicit',\n",
       "   'trackExplicitness': 'notExplicit',\n",
       "   'discCount': 1,\n",
       "   'discNumber': 1,\n",
       "   'trackCount': 1,\n",
       "   'trackNumber': 1,\n",
       "   'trackTimeMillis': 215600,\n",
       "   'country': 'USA',\n",
       "   'currency': 'USD',\n",
       "   'primaryGenreName': 'Rock',\n",
       "   'isStreamable': True},\n",
       "  {'wrapperType': 'track',\n",
       "   'kind': 'song',\n",
       "   'artistId': 886034853,\n",
       "   'collectionId': 1246341656,\n",
       "   'trackId': 1246341796,\n",
       "   'artistName': 'Molotov Cocktail Piano',\n",
       "   'collectionName': 'MCP Performs Harry Styles (Instrumental)',\n",
       "   'trackName': 'Sign of the Times',\n",
       "   'collectionCensoredName': 'MCP Performs Harry Styles (Instrumental)',\n",
       "   'trackCensoredName': 'Sign of the Times (Instrumental)',\n",
       "   'artistViewUrl': 'https://itunes.apple.com/us/artist/molotov-cocktail-piano/886034853?uo=4',\n",
       "   'collectionViewUrl': 'https://itunes.apple.com/us/album/sign-of-the-times-instrumental/1246341656?i=1246341796&uo=4',\n",
       "   'trackViewUrl': 'https://itunes.apple.com/us/album/sign-of-the-times-instrumental/1246341656?i=1246341796&uo=4',\n",
       "   'previewUrl': 'https://audio-ssl.itunes.apple.com/apple-assets-us-std-000001/AudioPreview127/v4/b3/86/73/b38673f8-e86c-8a4f-6604-95239254d146/mzaf_4851381318675857073.plus.aac.p.m4a',\n",
       "   'artworkUrl30': 'https://is4-ssl.mzstatic.com/image/thumb/Music117/v4/95/2c/eb/952ceb28-f629-8ebd-722c-c81ae7c0d4ed/source/30x30bb.jpg',\n",
       "   'artworkUrl60': 'https://is4-ssl.mzstatic.com/image/thumb/Music117/v4/95/2c/eb/952ceb28-f629-8ebd-722c-c81ae7c0d4ed/source/60x60bb.jpg',\n",
       "   'artworkUrl100': 'https://is4-ssl.mzstatic.com/image/thumb/Music117/v4/95/2c/eb/952ceb28-f629-8ebd-722c-c81ae7c0d4ed/source/100x100bb.jpg',\n",
       "   'collectionPrice': 9.9,\n",
       "   'trackPrice': 0.99,\n",
       "   'releaseDate': '2017-05-26T07:00:00Z',\n",
       "   'collectionExplicitness': 'notExplicit',\n",
       "   'trackExplicitness': 'notExplicit',\n",
       "   'discCount': 1,\n",
       "   'discNumber': 1,\n",
       "   'trackCount': 10,\n",
       "   'trackNumber': 2,\n",
       "   'trackTimeMillis': 335359,\n",
       "   'country': 'USA',\n",
       "   'currency': 'USD',\n",
       "   'primaryGenreName': 'Instrumental',\n",
       "   'isStreamable': True},\n",
       "  {'wrapperType': 'track',\n",
       "   'kind': 'song',\n",
       "   'artistId': 426759306,\n",
       "   'collectionId': 426759300,\n",
       "   'trackId': 426759314,\n",
       "   'artistName': 'Syndicate 17',\n",
       "   'collectionName': 'Mad World (feat. Susan Hyatt) - Single',\n",
       "   'trackName': 'Mad World (feat. Susan Hyatt)',\n",
       "   'collectionCensoredName': 'Mad World (feat. Susan Hyatt) - Single',\n",
       "   'trackCensoredName': 'Mad World (feat. Susan Hyatt)',\n",
       "   'artistViewUrl': 'https://itunes.apple.com/us/artist/syndicate-17/426759306?uo=4',\n",
       "   'collectionViewUrl': 'https://itunes.apple.com/us/album/mad-world-feat-susan-hyatt/426759300?i=426759314&uo=4',\n",
       "   'trackViewUrl': 'https://itunes.apple.com/us/album/mad-world-feat-susan-hyatt/426759300?i=426759314&uo=4',\n",
       "   'previewUrl': 'https://audio-ssl.itunes.apple.com/apple-assets-us-std-000001/Music/28/0d/a2/mzm.ennxwoop.aac.p.m4a',\n",
       "   'artworkUrl30': 'https://is2-ssl.mzstatic.com/image/thumb/Music/v4/ec/cd/d9/eccdd9db-042d-895c-064c-b121025396ed/source/30x30bb.jpg',\n",
       "   'artworkUrl60': 'https://is2-ssl.mzstatic.com/image/thumb/Music/v4/ec/cd/d9/eccdd9db-042d-895c-064c-b121025396ed/source/60x60bb.jpg',\n",
       "   'artworkUrl100': 'https://is2-ssl.mzstatic.com/image/thumb/Music/v4/ec/cd/d9/eccdd9db-042d-895c-064c-b121025396ed/source/100x100bb.jpg',\n",
       "   'collectionPrice': 0.99,\n",
       "   'trackPrice': 0.99,\n",
       "   'releaseDate': '2011-03-15T07:00:00Z',\n",
       "   'collectionExplicitness': 'notExplicit',\n",
       "   'trackExplicitness': 'notExplicit',\n",
       "   'discCount': 1,\n",
       "   'discNumber': 1,\n",
       "   'trackCount': 1,\n",
       "   'trackNumber': 1,\n",
       "   'trackTimeMillis': 215600,\n",
       "   'country': 'USA',\n",
       "   'currency': 'USD',\n",
       "   'primaryGenreName': 'Rock',\n",
       "   'isStreamable': True},\n",
       "  {'wrapperType': 'track',\n",
       "   'kind': 'song',\n",
       "   'artistId': 898452408,\n",
       "   'collectionId': 1213478784,\n",
       "   'trackId': 1213479047,\n",
       "   'artistName': 'RichaadEB',\n",
       "   'collectionName': 'Guren No Yumiya - Single',\n",
       "   'trackName': 'Guren No Yumiya',\n",
       "   'collectionCensoredName': 'Guren No Yumiya - Single',\n",
       "   'trackCensoredName': 'Guren No Yumiya',\n",
       "   'artistViewUrl': 'https://itunes.apple.com/us/artist/richaadeb/898452408?uo=4',\n",
       "   'collectionViewUrl': 'https://itunes.apple.com/us/album/guren-no-yumiya/1213478784?i=1213479047&uo=4',\n",
       "   'trackViewUrl': 'https://itunes.apple.com/us/album/guren-no-yumiya/1213478784?i=1213479047&uo=4',\n",
       "   'previewUrl': 'https://audio-ssl.itunes.apple.com/apple-assets-us-std-000001/AudioPreview122/v4/16/c9/7d/16c97db3-01ea-f28e-c5b6-a004cbb3dd36/mzaf_2224101234861359792.plus.aac.p.m4a',\n",
       "   'artworkUrl30': 'https://is2-ssl.mzstatic.com/image/thumb/Music122/v4/98/e9/2b/98e92b64-fb26-b342-807e-66118e32816e/source/30x30bb.jpg',\n",
       "   'artworkUrl60': 'https://is2-ssl.mzstatic.com/image/thumb/Music122/v4/98/e9/2b/98e92b64-fb26-b342-807e-66118e32816e/source/60x60bb.jpg',\n",
       "   'artworkUrl100': 'https://is2-ssl.mzstatic.com/image/thumb/Music122/v4/98/e9/2b/98e92b64-fb26-b342-807e-66118e32816e/source/100x100bb.jpg',\n",
       "   'collectionPrice': 0.99,\n",
       "   'trackPrice': 0.99,\n",
       "   'releaseDate': '2017-03-08T08:00:00Z',\n",
       "   'collectionExplicitness': 'notExplicit',\n",
       "   'trackExplicitness': 'notExplicit',\n",
       "   'discCount': 1,\n",
       "   'discNumber': 1,\n",
       "   'trackCount': 1,\n",
       "   'trackNumber': 1,\n",
       "   'trackTimeMillis': 94075,\n",
       "   'country': 'USA',\n",
       "   'currency': 'USD',\n",
       "   'primaryGenreName': 'Metal',\n",
       "   'isStreamable': True},\n",
       "  {'wrapperType': 'track',\n",
       "   'kind': 'song',\n",
       "   'artistId': 710009786,\n",
       "   'collectionId': 1244364228,\n",
       "   'trackId': 1244364438,\n",
       "   'artistName': 'Midnite String Quartet',\n",
       "   'collectionName': 'MSQ Performs Harry Styles Sign of the Times - Single',\n",
       "   'trackName': 'Sign of the Times',\n",
       "   'collectionCensoredName': 'MSQ Performs Harry Styles Sign of the Times - Single',\n",
       "   'trackCensoredName': 'Sign of the Times',\n",
       "   'artistViewUrl': 'https://itunes.apple.com/us/artist/midnite-string-quartet/710009786?uo=4',\n",
       "   'collectionViewUrl': 'https://itunes.apple.com/us/album/sign-of-the-times/1244364228?i=1244364438&uo=4',\n",
       "   'trackViewUrl': 'https://itunes.apple.com/us/album/sign-of-the-times/1244364228?i=1244364438&uo=4',\n",
       "   'previewUrl': 'https://audio-ssl.itunes.apple.com/apple-assets-us-std-000001/AudioPreview127/v4/a3/2d/97/a32d976d-6299-70af-02db-461c9e477586/mzaf_2506704602111551082.plus.aac.p.m4a',\n",
       "   'artworkUrl30': 'https://is5-ssl.mzstatic.com/image/thumb/Music117/v4/32/56/7c/32567cdf-6acb-f412-6dad-5bc9fcef9e94/source/30x30bb.jpg',\n",
       "   'artworkUrl60': 'https://is5-ssl.mzstatic.com/image/thumb/Music117/v4/32/56/7c/32567cdf-6acb-f412-6dad-5bc9fcef9e94/source/60x60bb.jpg',\n",
       "   'artworkUrl100': 'https://is5-ssl.mzstatic.com/image/thumb/Music117/v4/32/56/7c/32567cdf-6acb-f412-6dad-5bc9fcef9e94/source/100x100bb.jpg',\n",
       "   'collectionPrice': 1.29,\n",
       "   'trackPrice': 1.29,\n",
       "   'releaseDate': '2017-06-16T07:00:00Z',\n",
       "   'collectionExplicitness': 'notExplicit',\n",
       "   'trackExplicitness': 'notExplicit',\n",
       "   'discCount': 1,\n",
       "   'discNumber': 1,\n",
       "   'trackCount': 1,\n",
       "   'trackNumber': 1,\n",
       "   'trackTimeMillis': 296386,\n",
       "   'country': 'USA',\n",
       "   'currency': 'USD',\n",
       "   'primaryGenreName': 'Rock',\n",
       "   'isStreamable': True},\n",
       "  {'wrapperType': 'track',\n",
       "   'kind': 'song',\n",
       "   'artistId': 326291147,\n",
       "   'collectionId': 1326326433,\n",
       "   'trackId': 1326327564,\n",
       "   'artistName': 'Michael Forster',\n",
       "   'collectionName': 'Piano Chill',\n",
       "   'trackName': 'Sign of the Times',\n",
       "   'collectionCensoredName': 'Piano Chill',\n",
       "   'trackCensoredName': 'Sign of the Times (Piano Version)',\n",
       "   'artistViewUrl': 'https://itunes.apple.com/us/artist/michael-forster/326291147?uo=4',\n",
       "   'collectionViewUrl': 'https://itunes.apple.com/us/album/sign-of-the-times-piano-version/1326326433?i=1326327564&uo=4',\n",
       "   'trackViewUrl': 'https://itunes.apple.com/us/album/sign-of-the-times-piano-version/1326326433?i=1326327564&uo=4',\n",
       "   'previewUrl': 'https://audio-ssl.itunes.apple.com/apple-assets-us-std-000001/AudioPreview128/v4/0d/ac/e6/0dace620-6a1d-a493-e9fc-2c2b3da8083f/mzaf_4716470633389636261.plus.aac.p.m4a',\n",
       "   'artworkUrl30': 'https://is3-ssl.mzstatic.com/image/thumb/Music118/v4/09/37/e0/0937e074-5dd0-cd84-6933-8a5b2a27b542/source/30x30bb.jpg',\n",
       "   'artworkUrl60': 'https://is3-ssl.mzstatic.com/image/thumb/Music118/v4/09/37/e0/0937e074-5dd0-cd84-6933-8a5b2a27b542/source/60x60bb.jpg',\n",
       "   'artworkUrl100': 'https://is3-ssl.mzstatic.com/image/thumb/Music118/v4/09/37/e0/0937e074-5dd0-cd84-6933-8a5b2a27b542/source/100x100bb.jpg',\n",
       "   'collectionPrice': 13.99,\n",
       "   'trackPrice': 1.29,\n",
       "   'releaseDate': '2018-02-23T08:00:00Z',\n",
       "   'collectionExplicitness': 'notExplicit',\n",
       "   'trackExplicitness': 'notExplicit',\n",
       "   'discCount': 1,\n",
       "   'discNumber': 1,\n",
       "   'trackCount': 17,\n",
       "   'trackNumber': 8,\n",
       "   'trackTimeMillis': 167134,\n",
       "   'country': 'USA',\n",
       "   'currency': 'USD',\n",
       "   'primaryGenreName': 'Classical Crossover',\n",
       "   'isStreamable': True},\n",
       "  {'wrapperType': 'track',\n",
       "   'kind': 'song',\n",
       "   'artistId': 4312819,\n",
       "   'collectionId': 1253595069,\n",
       "   'trackId': 1253595783,\n",
       "   'artistName': 'Paul Cardall',\n",
       "   'collectionName': 'Sign of the Times - Single',\n",
       "   'trackName': 'Sign of the Times',\n",
       "   'collectionCensoredName': 'Sign of the Times - Single',\n",
       "   'trackCensoredName': 'Sign of the Times',\n",
       "   'artistViewUrl': 'https://itunes.apple.com/us/artist/paul-cardall/4312819?uo=4',\n",
       "   'collectionViewUrl': 'https://itunes.apple.com/us/album/sign-of-the-times/1253595069?i=1253595783&uo=4',\n",
       "   'trackViewUrl': 'https://itunes.apple.com/us/album/sign-of-the-times/1253595069?i=1253595783&uo=4',\n",
       "   'previewUrl': 'https://audio-ssl.itunes.apple.com/apple-assets-us-std-000001/AudioPreview117/v4/0d/c4/e0/0dc4e011-be1d-161a-32ae-dcd8a37e6d80/mzaf_1486793708326610821.plus.aac.p.m4a',\n",
       "   'artworkUrl30': 'https://is2-ssl.mzstatic.com/image/thumb/Music127/v4/84/9b/87/849b87d2-abd9-f150-da7f-a29931ba8f56/source/30x30bb.jpg',\n",
       "   'artworkUrl60': 'https://is2-ssl.mzstatic.com/image/thumb/Music127/v4/84/9b/87/849b87d2-abd9-f150-da7f-a29931ba8f56/source/60x60bb.jpg',\n",
       "   'artworkUrl100': 'https://is2-ssl.mzstatic.com/image/thumb/Music127/v4/84/9b/87/849b87d2-abd9-f150-da7f-a29931ba8f56/source/100x100bb.jpg',\n",
       "   'collectionPrice': 0.99,\n",
       "   'trackPrice': 0.99,\n",
       "   'releaseDate': '2017-06-23T07:00:00Z',\n",
       "   'collectionExplicitness': 'notExplicit',\n",
       "   'trackExplicitness': 'notExplicit',\n",
       "   'discCount': 1,\n",
       "   'discNumber': 1,\n",
       "   'trackCount': 1,\n",
       "   'trackNumber': 1,\n",
       "   'trackTimeMillis': 251012,\n",
       "   'country': 'USA',\n",
       "   'currency': 'USD',\n",
       "   'primaryGenreName': 'Classical Crossover',\n",
       "   'isStreamable': True},\n",
       "  {'wrapperType': 'track',\n",
       "   'kind': 'song',\n",
       "   'artistId': 1314899232,\n",
       "   'collectionId': 1314898258,\n",
       "   'trackId': 1314899238,\n",
       "   'artistName': 'Ohlala Band',\n",
       "   'collectionName': 'Ohlala #7Senses (Live)',\n",
       "   'trackName': 'Sign of the Times',\n",
       "   'collectionCensoredName': 'Ohlala #7Senses (Live)',\n",
       "   'trackCensoredName': 'Sign of the Times (Live)',\n",
       "   'artistViewUrl': 'https://itunes.apple.com/us/artist/ohlala-band/1314899232?uo=4',\n",
       "   'collectionViewUrl': 'https://itunes.apple.com/us/album/sign-of-the-times-live/1314898258?i=1314899238&uo=4',\n",
       "   'trackViewUrl': 'https://itunes.apple.com/us/album/sign-of-the-times-live/1314898258?i=1314899238&uo=4',\n",
       "   'previewUrl': 'https://audio-ssl.itunes.apple.com/apple-assets-us-std-000001/AudioPreview128/v4/88/4e/52/884e521a-67ba-1074-40a3-18e5a4ea3248/mzaf_7482987119709466654.plus.aac.p.m4a',\n",
       "   'artworkUrl30': 'https://is4-ssl.mzstatic.com/image/thumb/Music128/v4/4b/7d/65/4b7d650b-3760-efed-8545-184295555373/source/30x30bb.jpg',\n",
       "   'artworkUrl60': 'https://is4-ssl.mzstatic.com/image/thumb/Music128/v4/4b/7d/65/4b7d650b-3760-efed-8545-184295555373/source/60x60bb.jpg',\n",
       "   'artworkUrl100': 'https://is4-ssl.mzstatic.com/image/thumb/Music128/v4/4b/7d/65/4b7d650b-3760-efed-8545-184295555373/source/100x100bb.jpg',\n",
       "   'collectionPrice': 6.9,\n",
       "   'trackPrice': 0.69,\n",
       "   'releaseDate': '2017-12-01T08:00:00Z',\n",
       "   'collectionExplicitness': 'notExplicit',\n",
       "   'trackExplicitness': 'notExplicit',\n",
       "   'discCount': 1,\n",
       "   'discNumber': 1,\n",
       "   'trackCount': 10,\n",
       "   'trackNumber': 2,\n",
       "   'trackTimeMillis': 408665,\n",
       "   'country': 'USA',\n",
       "   'currency': 'USD',\n",
       "   'primaryGenreName': 'Musicals',\n",
       "   'isStreamable': True}]}"
      ]
     },
     "execution_count": 220,
     "metadata": {},
     "output_type": "execute_result"
    }
   ],
   "source": [
    "json_obj"
   ]
  },
  {
   "cell_type": "code",
   "execution_count": 221,
   "metadata": {},
   "outputs": [
    {
     "name": "stdout",
     "output_type": "stream",
     "text": [
      "Sign of the Times  by  Harry Styles \n",
      " Harry Styles :  2  of  10 \n",
      "\n",
      "\"Sign of the Times\" Parody of Harry Styles' \"Sign of the Times\"  by  The Key of Awesome \n",
      " \"Sign of the Times\" Parody of Harry Styles' \"Sign of the Times\" - Single :  1  of  1 \n",
      "\n",
      "Mad World (feat. Susan Hyatt & Syndicate 17)  by  Stimulator \n",
      " Mad World (feat. Susan Hyatt & Syndicate 17) - Single :  1  of  1 \n",
      "\n",
      "Sign of the Times  by  Molotov Cocktail Piano \n",
      " MCP Performs Harry Styles (Instrumental) :  2  of  10 \n",
      "\n",
      "Mad World (feat. Susan Hyatt)  by  Syndicate 17 \n",
      " Mad World (feat. Susan Hyatt) - Single :  1  of  1 \n",
      "\n",
      "Guren No Yumiya  by  RichaadEB \n",
      " Guren No Yumiya - Single :  1  of  1 \n",
      "\n",
      "Sign of the Times  by  Midnite String Quartet \n",
      " MSQ Performs Harry Styles Sign of the Times - Single :  1  of  1 \n",
      "\n",
      "Sign of the Times  by  Michael Forster \n",
      " Piano Chill :  8  of  17 \n",
      "\n",
      "Sign of the Times  by  Paul Cardall \n",
      " Sign of the Times - Single :  1  of  1 \n",
      "\n",
      "Sign of the Times  by  Ohlala Band \n",
      " Ohlala #7Senses (Live) :  2  of  10 \n",
      "\n",
      "Enter result index: \n",
      "0\n"
     ]
    }
   ],
   "source": [
    "\n",
    "for i in range(len(json_obj[\"results\"])):\n",
    "    print(json_obj[\"results\"][i][\"trackName\"], \" by \", json_obj[\"results\"][i][\"artistName\"], \"\\n\", \n",
    "         json_obj[\"results\"][i][\"collectionName\"], \": \", json_obj[\"results\"][i][\"trackNumber\"], \" of \", json_obj[\"results\"][i][\"trackCount\"], \"\\n\")\n",
    "\n",
    "jsonIndex = input(\"Enter result index: \")\n",
    "\n",
    "if jsonIndex is \"\":\n",
    "    jsonIndex = 0\n",
    "\n",
    "jsonIndex = int(jsonIndex)\n",
    "print(jsonIndex)"
   ]
  },
  {
   "cell_type": "code",
   "execution_count": 222,
   "metadata": {},
   "outputs": [
    {
     "name": "stdout",
     "output_type": "stream",
     "text": [
      "https://is4-ssl.mzstatic.com/image/thumb/Music111/v4/b2/fe/66/b2fe6680-b4e3-662c-bd57-004a066146fa/source/800x800bb.jpg\n"
     ]
    }
   ],
   "source": [
    "imageURL = json_obj[\"results\"][jsonIndex][\"artworkUrl100\"]\n",
    "imageURL = imageURL.replace(\"100x100\", \"800x800\")\n",
    "\n",
    "print(imageURL)\n",
    "\n",
    "#imageArt = requests.get(imageURL)\n",
    "\n",
    "imageData = urlopen(imageURL)  \n",
    "imageArt = imageData.read()"
   ]
  },
  {
   "cell_type": "code",
   "execution_count": 223,
   "metadata": {
    "scrolled": true
   },
   "outputs": [
    {
     "data": {
      "text/plain": [
       "<eyed3.mp3.Mp3AudioFile at 0x2b229e31dd8>"
      ]
     },
     "execution_count": 223,
     "metadata": {},
     "output_type": "execute_result"
    }
   ],
   "source": [
    "audiofile = eyed3.load(listOfMp3s[songIndex])\n",
    "audiofile"
   ]
  },
  {
   "cell_type": "code",
   "execution_count": 224,
   "metadata": {
    "scrolled": true
   },
   "outputs": [],
   "source": [
    "audiofile.tag.artist = json_obj[\"results\"][jsonIndex][\"artistName\"]\n",
    "audiofile.tag.album = json_obj[\"results\"][jsonIndex][\"collectionName\"]\n",
    "audiofile.tag.title = json_obj[\"results\"][jsonIndex][\"trackName\"]\n",
    "audiofile.tag.track_num = (json_obj[\"results\"][jsonIndex][\"trackNumber\"], json_obj[\"results\"][jsonIndex][\"trackCount\"])\n",
    "audiofile.tag.images.remove(u'')\n",
    "audiofile.tag.images.set(1, imageArt , \"image/jpeg\" ,u\"Description\")\n",
    "audiofile.tag.genre = json_obj[\"results\"][jsonIndex][\"primaryGenreName\"]\n",
    "\n",
    "# ADD YEAR OF RELEASE, MORE TAG STUFF = MORE BETTER\n"
   ]
  },
  {
   "cell_type": "code",
   "execution_count": 225,
   "metadata": {},
   "outputs": [],
   "source": [
    "try:\n",
    "    audiofile.tag.album_artist = json_obj[\"results\"][jsonIndex][\"collectionArtistName\"]\n",
    "except:\n",
    "    audiofile.tag.album_artist = json_obj[\"results\"][jsonIndex][\"artistName\"]"
   ]
  },
  {
   "cell_type": "code",
   "execution_count": 226,
   "metadata": {},
   "outputs": [],
   "source": [
    "audiofile.tag.save(backup=False)"
   ]
  },
  {
   "cell_type": "code",
   "execution_count": 227,
   "metadata": {},
   "outputs": [
    {
     "name": "stdout",
     "output_type": "stream",
     "text": [
      "Sign of the Times\n",
      "Harry Styles\n"
     ]
    }
   ],
   "source": [
    "print(audiofile.tag.title)\n",
    "print(audiofile.tag.album_artist)"
   ]
  },
  {
   "cell_type": "code",
   "execution_count": null,
   "metadata": {},
   "outputs": [],
   "source": []
  },
  {
   "cell_type": "code",
   "execution_count": null,
   "metadata": {},
   "outputs": [],
   "source": []
  },
  {
   "cell_type": "code",
   "execution_count": null,
   "metadata": {},
   "outputs": [],
   "source": []
  },
  {
   "cell_type": "code",
   "execution_count": null,
   "metadata": {},
   "outputs": [],
   "source": []
  },
  {
   "cell_type": "code",
   "execution_count": null,
   "metadata": {},
   "outputs": [],
   "source": []
  }
 ],
 "metadata": {
  "kernelspec": {
   "display_name": "Python 3",
   "language": "python",
   "name": "python3"
  },
  "language_info": {
   "codemirror_mode": {
    "name": "ipython",
    "version": 3
   },
   "file_extension": ".py",
   "mimetype": "text/x-python",
   "name": "python",
   "nbconvert_exporter": "python",
   "pygments_lexer": "ipython3",
   "version": "3.7.0"
  }
 },
 "nbformat": 4,
 "nbformat_minor": 2
}
