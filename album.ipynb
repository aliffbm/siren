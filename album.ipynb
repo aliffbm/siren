{
 "cells": [
  {
   "cell_type": "code",
   "execution_count": 129,
   "metadata": {},
   "outputs": [],
   "source": [
    "import numpy\n",
    "import urllib ## should use urllib.request for urlopen\n",
    "import ast\n",
    "import json\n",
    "import os\n",
    "import eyed3\n",
    "import sys\n",
    "import re\n",
    "\n",
    "from urllib.request import urlopen\n",
    "\n",
    "from PIL import Image\n",
    "import requests\n",
    "from io import BytesIO"
   ]
  },
  {
   "cell_type": "code",
   "execution_count": 130,
   "metadata": {},
   "outputs": [
    {
     "name": "stdout",
     "output_type": "stream",
     "text": [
      "['.ipynb_checkpoints', '92 Explorer.mp3', 'album.ipynb', 'Ball For Me (feat. Nicki Minaj).mp3', 'Better Now.mp3', 'Blame It On Me.mp3', 'Candy Paint.mp3', 'Jonestown (Interlude).mp3', 'main.ipynb', 'MANUALS', 'Music Thang.ipynb', 'Otherside.mp3', 'Over Now.mp3', 'Paranoid.mp3', 'Psycho (feat. Ty Dolla $ign).mp3', 'README.md', 'Rich & Sad.mp3', 'rockstar (feat. 21 Savage).mp3', 'Same Bitches (feat. G-Eazy & YG).mp3', 'singles', 'Spoil My Night (feat. Swae Lee).mp3', 'Stay.mp3', 'Sugar Wraith.mp3', 'Takin Shots.mp3', 'Zack And Codeine.mp3']\n"
     ]
    }
   ],
   "source": [
    "files = os.listdir(\".\")\n",
    "print(files)"
   ]
  },
  {
   "cell_type": "code",
   "execution_count": 131,
   "metadata": {},
   "outputs": [],
   "source": [
    "f = re.compile('.*.mp3')\n",
    "listOfMp3s = list(filter(f.match, files))"
   ]
  },
  {
   "cell_type": "code",
   "execution_count": 132,
   "metadata": {},
   "outputs": [
    {
     "data": {
      "text/plain": [
       "re.compile(r'.*.mp3', re.UNICODE)"
      ]
     },
     "execution_count": 132,
     "metadata": {},
     "output_type": "execute_result"
    }
   ],
   "source": [
    "f"
   ]
  },
  {
   "cell_type": "code",
   "execution_count": 133,
   "metadata": {},
   "outputs": [],
   "source": [
    "#IF INPUT NULL, TAKE MP3 NAME\n",
    "def makeSongURL(song):\n",
    "    songName = song.replace(\" - \", \" \")\n",
    "    songName = songName.replace(\"official\", \"\")\n",
    "    songName = songName.replace(\"Official\", \"\")\n",
    "    songName = songName.replace(\"&\", \"and\")\n",
    "    songName = songName.replace(\"lyrics\", \"\")\n",
    "    songName = songName.replace(\"Lyrics\", \"\")\n",
    "    songName = songName.replace(\"Music\", \"\")\n",
    "    songName = songName.replace(\"music\", \"\")\n",
    "    songName = songName.replace(\"HD\", \"\")\n",
    "    songName = songName.replace(\"HQ\", \"\")\n",
    "    songName = songName.replace(\"Audio\", \"\")\n",
    "    songName = songName.replace(\"audio\", \"\")\n",
    "    songName = songName.replace(\"Official\", \"\")\n",
    "    songName = songName.replace(\"Off\", \"\")\n",
    "    songName = songName.replace(\"Of\", \"\")\n",
    "    songName = songName.replace(\"of\", \"\")\n",
    "    songName = songName.replace(\"off\", \"\")\n",
    "    songName = songName.replace(\"official\", \"\")\n",
    "    songName = songName.replace(\"Video\", \"\")\n",
    "    songName = songName.replace(\"Produced\", \"\")\n",
    "    songName = songName.replace(\"Prod\", \"\")\n",
    "    songName = songName.replace(\"Remix\", \"\")\n",
    "    songName = songName.replace(\"remix\", \"\")\n",
    "    songName = songName.replace(\"dir\", \"\")\n",
    "    songName = songName.replace(\"Dir\", \"\")\n",
    "    songName = songName.replace(\"by\", \"\")\n",
    "\n",
    "\n",
    "    songName = songName.replace(\"(\", \"\")\n",
    "    songName = songName.replace(\"[\", \"\")\n",
    "    songName = songName.replace(\"]\", \"\")\n",
    "    songName = songName.replace(\")\", \"\")\n",
    "    songName = songName.replace(\"{\", \"\")\n",
    "    songName = songName.replace(\"}\", \"\")\n",
    "    songName = songName.replace(\".\", \"\")\n",
    "\n",
    "    songName = songName.replace(\"mp3\", \"\")\n",
    "    songName = songName.replace(\"Spotify\", \"\")\n",
    "    songName = songName.replace(\"Screen\", \"\")\n",
    "    songName = songName.replace(\"screen\", \"\")\n",
    "    songName = songName.replace(\"Ft\", \"\")\n",
    "    songName = songName.replace(\"ft\", \"\")\n",
    "    songName = songName.replace(\"Feat\", \"\")\n",
    "    songName = songName.replace(\"feat\", \"\")\n",
    "    songName = songName.replace(\"version\", \"\")\n",
    "    songName = songName.replace(\"Version\", \"\")\n",
    "\n",
    "    songName = songName.replace(\"Explicit\", \"\")\n",
    "    songName = songName.replace(\"explicit\", \"\")\n",
    "\n",
    "\n",
    "    songName = songName.replace(\"   \", \" \")\n",
    "    songName = songName.replace(\"  \", \" \")\n",
    "\n",
    "    songName = songName.replace(\" \", \"+\")\n",
    "\n",
    "    return(songName)"
   ]
  },
  {
   "cell_type": "code",
   "execution_count": 134,
   "metadata": {},
   "outputs": [],
   "source": [
    "#data = [d for d in data if 'user/ageInSeconds' in d and d['user/ageInSeconds'] < 60*60*24*365*100]\n",
    "\n",
    "def getiTunes(search):\n",
    "    ituneURL = urllib.request.urlopen(\"https://itunes.apple.com/search?term=\"+search+\"&limit=10&entity=song\")\n",
    "    d = ituneURL.read()\n",
    "    encoding = ituneURL.info().get_content_charset('utf-8')\n",
    "    return json.loads(d.decode(encoding))"
   ]
  },
  {
   "cell_type": "code",
   "execution_count": 135,
   "metadata": {},
   "outputs": [],
   "source": [
    "def pickIndex(JSON):\n",
    "    for i in range(len(JSON[\"results\"])):\n",
    "        print(JSON[\"results\"][i][\"trackName\"], \" by \", JSON[\"results\"][i][\"artistName\"], \"\\n\", \n",
    "         JSON[\"results\"][i][\"collectionName\"], \"\\n\")\n",
    "    \n",
    "    jsonIndex = input(\"Enter result index: \")\n",
    "\n",
    "    if jsonIndex is \"\":\n",
    "        jsonIndex = 0\n",
    "\n",
    "    return int(jsonIndex)"
   ]
  },
  {
   "cell_type": "code",
   "execution_count": 136,
   "metadata": {},
   "outputs": [],
   "source": [
    "def saveSong(song, index, JSON):    \n",
    "    imageURL = JSON[\"results\"][index][\"artworkUrl100\"]\n",
    "    imageURL = imageURL.replace(\"100x100\", \"800x800\")\n",
    "    imageData = urlopen(imageURL)  \n",
    "    imageArt = imageData.read()\n",
    "\n",
    "    \n",
    "    \n",
    "    audiofile = eyed3.load(song)\n",
    "\n",
    "    audiofile.tag.artist = JSON[\"results\"][index][\"artistName\"]\n",
    "    audiofile.tag.album = JSON[\"results\"][index][\"collectionName\"]\n",
    "    audiofile.tag.title = JSON[\"results\"][index][\"trackName\"]\n",
    "    audiofile.tag.track_num = (JSON[\"results\"][index][\"trackNumber\"], JSON[\"results\"][index][\"trackCount\"])\n",
    "    audiofile.tag.images.remove(u'')\n",
    "    audiofile.tag.images.set(1, imageArt , \"image/jpeg\" ,u\"Description\")\n",
    "    audiofile.tag.genre = JSON[\"results\"][index][\"primaryGenreName\"]\n",
    "\n",
    "    # ADD YEAR OF RELEASE, MORE TAG STUFF = MORE BETTER\n",
    "\n",
    "    try:\n",
    "        audiofile.tag.album_artist = JSON[\"results\"][index][\"collectionArtistName\"]\n",
    "    except:\n",
    "        audiofile.tag.album_artist = JSON[\"results\"][index][\"artistName\"]\n",
    "\n",
    "\n",
    "    audiofile.tag.save(backup=False)\n",
    "\n",
    "    "
   ]
  },
  {
   "cell_type": "code",
   "execution_count": 137,
   "metadata": {},
   "outputs": [
    {
     "name": "stdout",
     "output_type": "stream",
     "text": [
      "Enter any extra search term, such as artist: \n"
     ]
    },
    {
     "data": {
      "text/plain": [
       "''"
      ]
     },
     "execution_count": 137,
     "metadata": {},
     "output_type": "execute_result"
    }
   ],
   "source": [
    "extraTerm = input(\"Enter any extra search term, such as artist: \")\n",
    "extraTerm = extraTerm.replace(\" \", \"+\")\n",
    "extraTerm"
   ]
  },
  {
   "cell_type": "code",
   "execution_count": 138,
   "metadata": {},
   "outputs": [
    {
     "name": "stdout",
     "output_type": "stream",
     "text": [
      "92+Explorer+\n"
     ]
    },
    {
     "ename": "AttributeError",
     "evalue": "'NoneType' object has no attribute 'artist'",
     "output_type": "error",
     "traceback": [
      "\u001b[1;31m---------------------------------------------------------------------------\u001b[0m",
      "\u001b[1;31mAttributeError\u001b[0m                            Traceback (most recent call last)",
      "\u001b[1;32m<ipython-input-138-5f93d5bc23bb>\u001b[0m in \u001b[0;36m<module>\u001b[1;34m()\u001b[0m\n\u001b[0;32m      3\u001b[0m     \u001b[0mprint\u001b[0m\u001b[1;33m(\u001b[0m\u001b[0msongSearch\u001b[0m\u001b[1;33m)\u001b[0m\u001b[1;33m\u001b[0m\u001b[0m\n\u001b[0;32m      4\u001b[0m     \u001b[0mjsonfile\u001b[0m \u001b[1;33m=\u001b[0m \u001b[0mgetiTunes\u001b[0m\u001b[1;33m(\u001b[0m\u001b[0msongSearch\u001b[0m\u001b[1;33m)\u001b[0m\u001b[1;33m\u001b[0m\u001b[0m\n\u001b[1;32m----> 5\u001b[1;33m     \u001b[0msaveSong\u001b[0m\u001b[1;33m(\u001b[0m\u001b[0msong\u001b[0m\u001b[1;33m,\u001b[0m \u001b[1;36m0\u001b[0m\u001b[1;33m,\u001b[0m \u001b[0mjsonfile\u001b[0m\u001b[1;33m)\u001b[0m\u001b[1;33m\u001b[0m\u001b[0m\n\u001b[0m\u001b[0;32m      6\u001b[0m \u001b[1;33m\u001b[0m\u001b[0m\n",
      "\u001b[1;32m<ipython-input-136-bd7a27e017d6>\u001b[0m in \u001b[0;36msaveSong\u001b[1;34m(song, index, JSON)\u001b[0m\n\u001b[0;32m      9\u001b[0m     \u001b[0maudiofile\u001b[0m \u001b[1;33m=\u001b[0m \u001b[0meyed3\u001b[0m\u001b[1;33m.\u001b[0m\u001b[0mload\u001b[0m\u001b[1;33m(\u001b[0m\u001b[0msong\u001b[0m\u001b[1;33m)\u001b[0m\u001b[1;33m\u001b[0m\u001b[0m\n\u001b[0;32m     10\u001b[0m \u001b[1;33m\u001b[0m\u001b[0m\n\u001b[1;32m---> 11\u001b[1;33m     \u001b[0maudiofile\u001b[0m\u001b[1;33m.\u001b[0m\u001b[0mtag\u001b[0m\u001b[1;33m.\u001b[0m\u001b[0martist\u001b[0m \u001b[1;33m=\u001b[0m \u001b[0mJSON\u001b[0m\u001b[1;33m[\u001b[0m\u001b[1;34m\"results\"\u001b[0m\u001b[1;33m]\u001b[0m\u001b[1;33m[\u001b[0m\u001b[0mindex\u001b[0m\u001b[1;33m]\u001b[0m\u001b[1;33m[\u001b[0m\u001b[1;34m\"artistName\"\u001b[0m\u001b[1;33m]\u001b[0m\u001b[1;33m\u001b[0m\u001b[0m\n\u001b[0m\u001b[0;32m     12\u001b[0m     \u001b[0maudiofile\u001b[0m\u001b[1;33m.\u001b[0m\u001b[0mtag\u001b[0m\u001b[1;33m.\u001b[0m\u001b[0malbum\u001b[0m \u001b[1;33m=\u001b[0m \u001b[0mJSON\u001b[0m\u001b[1;33m[\u001b[0m\u001b[1;34m\"results\"\u001b[0m\u001b[1;33m]\u001b[0m\u001b[1;33m[\u001b[0m\u001b[0mindex\u001b[0m\u001b[1;33m]\u001b[0m\u001b[1;33m[\u001b[0m\u001b[1;34m\"collectionName\"\u001b[0m\u001b[1;33m]\u001b[0m\u001b[1;33m\u001b[0m\u001b[0m\n\u001b[0;32m     13\u001b[0m     \u001b[0maudiofile\u001b[0m\u001b[1;33m.\u001b[0m\u001b[0mtag\u001b[0m\u001b[1;33m.\u001b[0m\u001b[0mtitle\u001b[0m \u001b[1;33m=\u001b[0m \u001b[0mJSON\u001b[0m\u001b[1;33m[\u001b[0m\u001b[1;34m\"results\"\u001b[0m\u001b[1;33m]\u001b[0m\u001b[1;33m[\u001b[0m\u001b[0mindex\u001b[0m\u001b[1;33m]\u001b[0m\u001b[1;33m[\u001b[0m\u001b[1;34m\"trackName\"\u001b[0m\u001b[1;33m]\u001b[0m\u001b[1;33m\u001b[0m\u001b[0m\n",
      "\u001b[1;31mAttributeError\u001b[0m: 'NoneType' object has no attribute 'artist'"
     ]
    }
   ],
   "source": [
    "for song in listOfMp3s:\n",
    "    songSearch = makeSongURL(song) + \"+\" + extraTerm\n",
    "    print(songSearch)\n",
    "    jsonfile = getiTunes(songSearch)\n",
    "    saveSong(song, 0, jsonfile)\n",
    "    "
   ]
  },
  {
   "cell_type": "code",
   "execution_count": null,
   "metadata": {},
   "outputs": [],
   "source": []
  },
  {
   "cell_type": "code",
   "execution_count": null,
   "metadata": {},
   "outputs": [],
   "source": []
  },
  {
   "cell_type": "code",
   "execution_count": null,
   "metadata": {},
   "outputs": [],
   "source": []
  },
  {
   "cell_type": "code",
   "execution_count": null,
   "metadata": {},
   "outputs": [],
   "source": []
  },
  {
   "cell_type": "code",
   "execution_count": null,
   "metadata": {},
   "outputs": [],
   "source": []
  }
 ],
 "metadata": {
  "kernelspec": {
   "display_name": "Python 3",
   "language": "python",
   "name": "python3"
  },
  "language_info": {
   "codemirror_mode": {
    "name": "ipython",
    "version": 3
   },
   "file_extension": ".py",
   "mimetype": "text/x-python",
   "name": "python",
   "nbconvert_exporter": "python",
   "pygments_lexer": "ipython3",
   "version": "3.7.0"
  }
 },
 "nbformat": 4,
 "nbformat_minor": 2
}
