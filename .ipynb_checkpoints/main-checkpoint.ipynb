{
 "cells": [
  {
   "cell_type": "code",
   "execution_count": 1,
   "metadata": {},
   "outputs": [],
   "source": [
    "import numpy\n",
    "import urllib ## should use urllib.request for urlopen\n",
    "import ast\n",
    "import json\n",
    "import os\n",
    "import eyed3\n",
    "import sys\n",
    "import re\n",
    "\n",
    "from urllib.request import urlopen\n",
    "\n",
    "from PIL import Image\n",
    "import requests\n",
    "from io import BytesIO"
   ]
  },
  {
   "cell_type": "code",
   "execution_count": 2,
   "metadata": {},
   "outputs": [
    {
     "name": "stdout",
     "output_type": "stream",
     "text": [
      "['.ipynb_checkpoints', 'A Boogie Wit Da Hoodie - Odee (Prod. by Young Troy.mp3', 'Comethazine & A$AP Rocky - Walk (Remix) (Official.mp3', 'Congratulations Hamilton Lyrics.mp3', 'Joey Trap - I Got Top At Bikini Bottom Ft Kg Smoke.mp3', 'Lil Peep & ILoveMakonnen feat. Fall Out Boy – I’ve.mp3', 'Lil Skies - I [Official Audio].mp3', \"Lil' Wayne - A Milli (Bass Boosted) [HQ].mp3\", 'main.ipynb', 'Music Thang.ipynb', 'NLE Choppa - Shotta Flow (Lyrics).mp3', 'Offset & Metro Boomin - Ric Flair Drip (Official A.mp3', 'README.md', 'Ski Mask The Slump God - Catch Me Outside (Dir. by.mp3', 'SOB x RBE (DaBoii) - Calvin Cambridge Shot by @BGI.mp3', \"The Sugar Hill Gang - Rapper's Delight ( HQ, Full.mp3\", \"Todd Rundgren - I Don't Wanna Tie You Down (Lyrics.mp3\"]\n"
     ]
    }
   ],
   "source": [
    "files = os.listdir(\".\")\n",
    "print(files)"
   ]
  },
  {
   "cell_type": "code",
   "execution_count": 3,
   "metadata": {},
   "outputs": [],
   "source": [
    "f = re.compile('.*.mp3')\n",
    "listOfMp3s = list(filter(f.match, files))"
   ]
  },
  {
   "cell_type": "code",
   "execution_count": 4,
   "metadata": {},
   "outputs": [
    {
     "data": {
      "text/plain": [
       "re.compile(r'.*.mp3', re.UNICODE)"
      ]
     },
     "execution_count": 4,
     "metadata": {},
     "output_type": "execute_result"
    }
   ],
   "source": [
    "f"
   ]
  },
  {
   "cell_type": "code",
   "execution_count": null,
   "metadata": {},
   "outputs": [],
   "source": [
    "counter = 0\n",
    "for i in listOfMp3s:\n",
    "    print(counter, i)\n",
    "    counter += 1\n",
    "    \n",
    "songIndex = int(input(\"Enter song index: \"))"
   ]
  },
  {
   "cell_type": "code",
   "execution_count": 37,
   "metadata": {},
   "outputs": [
    {
     "data": {
      "text/plain": [
       "\"Lil' Wayne - A Milli (Bass Boosted) [HQ].mp3\""
      ]
     },
     "execution_count": 37,
     "metadata": {},
     "output_type": "execute_result"
    }
   ],
   "source": [
    "listOfMp3s[songIndex]"
   ]
  },
  {
   "cell_type": "code",
   "execution_count": 38,
   "metadata": {},
   "outputs": [
    {
     "name": "stdout",
     "output_type": "stream",
     "text": [
      "Enter seach term: lil wayne a milli\n",
      "lil+wayne+a+milli\n"
     ]
    }
   ],
   "source": [
    "#IF INPUT NULL, TAKE MP3 NAME\n",
    "\n",
    "songName = input(\"Enter seach term: \")\n",
    "if songName is \"\":\n",
    "    songName = listOfMp3s[songIndex].replace(\" - \", \" \")\n",
    "    songName = songName.replace(\"official\", \"\")\n",
    "    songName = songName.replace(\"Official\", \"\")\n",
    "    songName = songName.replace(\"&\", \"and\")\n",
    "    songName = songName.replace(\"lyrics\", \"\")\n",
    "    songName = songName.replace(\"Lyrics\", \"\")\n",
    "    songName = songName.replace(\"Music\", \"\")\n",
    "    songName = songName.replace(\"music\", \"\")\n",
    "    songName = songName.replace(\"HD\", \"\")\n",
    "    songName = songName.replace(\"HQ\", \"\")\n",
    "    songName = songName.replace(\"Audio\", \"\")\n",
    "    songName = songName.replace(\"audio\", \"\")\n",
    "    songName = songName.replace(\"Official\", \"\")\n",
    "    songName = songName.replace(\"Off\", \"\")\n",
    "    songName = songName.replace(\"Of\", \"\")\n",
    "    songName = songName.replace(\"of\", \"\")\n",
    "    songName = songName.replace(\"off\", \"\")\n",
    "    songName = songName.replace(\"official\", \"\")\n",
    "    songName = songName.replace(\"Video\", \"\")\n",
    "    songName = songName.replace(\"Produced\", \"\")\n",
    "    songName = songName.replace(\"Prod\", \"\")\n",
    "    songName = songName.replace(\"Remix\", \"\")\n",
    "    songName = songName.replace(\"remix\", \"\")\n",
    "    \n",
    "    songName = songName.replace(\"(\", \"\")\n",
    "    songName = songName.replace(\"[\", \"\")\n",
    "    songName = songName.replace(\"]\", \"\")\n",
    "    songName = songName.replace(\")\", \"\")\n",
    "    songName = songName.replace(\"{\", \"\")\n",
    "    songName = songName.replace(\"}\", \"\")\n",
    "    songName = songName.replace(\".\", \"\")\n",
    "    \n",
    "    songName = songName.replace(\"mp3\", \"\")\n",
    "    songName = songName.replace(\"Spotify\", \"\")\n",
    "    songName = songName.replace(\"Screen\", \"\")\n",
    "    songName = songName.replace(\"screen\", \"\")\n",
    "    songName = songName.replace(\"Ft\", \"\")\n",
    "    songName = songName.replace(\"ft\", \"\")\n",
    "    songName = songName.replace(\"Feat\", \"\")\n",
    "    songName = songName.replace(\"feat\", \"\")\n",
    "    songName = songName.replace(\"version\", \"\")\n",
    "    songName = songName.replace(\"Version\", \"\")\n",
    "    \n",
    "    songName = songName.replace(\"Explicit\", \"\")\n",
    "    songName = songName.replace(\"explicit\", \"\")\n",
    "\n",
    "\n",
    "    songName = songName.replace(\"   \", \" \")\n",
    "    songName = songName.replace(\"  \", \" \")\n",
    "\n",
    "\n",
    "\n",
    "\n",
    "songName = songName.replace(\" \", \"+\")\n",
    "\n",
    "print(songName)"
   ]
  },
  {
   "cell_type": "code",
   "execution_count": 48,
   "metadata": {},
   "outputs": [],
   "source": [
    "#data = [d for d in data if 'user/ageInSeconds' in d and d['user/ageInSeconds'] < 60*60*24*365*100]\n",
    "ituneURL = urllib.request.urlopen(\"https://itunes.apple.com/search?term=\"+songName+\"&limit=10&entity=song\")"
   ]
  },
  {
   "cell_type": "code",
   "execution_count": null,
   "metadata": {},
   "outputs": [],
   "source": []
  },
  {
   "cell_type": "code",
   "execution_count": 49,
   "metadata": {},
   "outputs": [],
   "source": [
    "d = ituneURL.read()"
   ]
  },
  {
   "cell_type": "code",
   "execution_count": 50,
   "metadata": {},
   "outputs": [
    {
     "data": {
      "text/plain": [
       "b'\\n\\n\\n{\\n \"resultCount\":10,\\n \"results\": [\\n{\"wrapperType\":\"track\", \"kind\":\"song\", \"artistId\":5869117, \"collectionId\":287818308, \"trackId\":287818317, \"artistName\":\"Lil Wayne\", \"collectionName\":\"Tha Carter III\", \"trackName\":\"A Milli\", \"collectionCensoredName\":\"Tha Carter III\", \"trackCensoredName\":\"A Milli\", \"artistViewUrl\":\"https://itunes.apple.com/us/artist/lil-wayne/5869117?uo=4\", \"collectionViewUrl\":\"https://itunes.apple.com/us/album/a-milli/287818308?i=287818317&uo=4\", \"trackViewUrl\":\"https://itunes.apple.com/us/album/a-milli/287818308?i=287818317&uo=4\", \"previewUrl\":\"https://audio-ssl.itunes.apple.com/apple-assets-us-std-000001/Music/09/4c/be/mzm.vnazmgvl.aac.p.m4a\", \"artworkUrl30\":\"https://is5-ssl.mzstatic.com/image/thumb/Music/v4/f7/6a/0b/f76a0b19-e704-cd2d-bd8c-ba941d5ab26a/source/30x30bb.jpg\", \"artworkUrl60\":\"https://is5-ssl.mzstatic.com/image/thumb/Music/v4/f7/6a/0b/f76a0b19-e704-cd2d-bd8c-ba941d5ab26a/source/60x60bb.jpg\", \"artworkUrl100\":\"https://is5-ssl.mzstatic.com/image/thumb/Music/v4/f7/6a/0b/f76a0b19-e704-cd2d-bd8c-ba941d5ab26a/source/100x100bb.jpg\", \"collectionPrice\":6.99, \"trackPrice\":1.29, \"releaseDate\":\"2008-04-23T07:00:00Z\", \"collectionExplicitness\":\"explicit\", \"trackExplicitness\":\"explicit\", \"discCount\":1, \"discNumber\":1, \"trackCount\":18, \"trackNumber\":3, \"trackTimeMillis\":221747, \"country\":\"USA\", \"currency\":\"USD\", \"primaryGenreName\":\"Hip-Hop/Rap\", \"contentAdvisoryRating\":\"Explicit\", \"isStreamable\":true}, \\n{\"wrapperType\":\"track\", \"kind\":\"song\", \"artistId\":5869117, \"collectionId\":287818023, \"trackId\":287818278, \"artistName\":\"Lil Wayne\", \"collectionName\":\"Tha Carter III\", \"trackName\":\"A Milli\", \"collectionCensoredName\":\"Tha Carter III\", \"trackCensoredName\":\"A Milli\", \"artistViewUrl\":\"https://itunes.apple.com/us/artist/lil-wayne/5869117?uo=4\", \"collectionViewUrl\":\"https://itunes.apple.com/us/album/a-milli/287818023?i=287818278&uo=4\", \"trackViewUrl\":\"https://itunes.apple.com/us/album/a-milli/287818023?i=287818278&uo=4\", \"previewUrl\":\"https://audio-ssl.itunes.apple.com/apple-assets-us-std-000001/Music/03/57/ba/mzm.nmfnlgga.aac.p.m4a\", \"artworkUrl30\":\"https://is5-ssl.mzstatic.com/image/thumb/Music/v4/00/ca/4d/00ca4d95-d6ff-952d-c621-edc162cdfc1e/source/30x30bb.jpg\", \"artworkUrl60\":\"https://is5-ssl.mzstatic.com/image/thumb/Music/v4/00/ca/4d/00ca4d95-d6ff-952d-c621-edc162cdfc1e/source/60x60bb.jpg\", \"artworkUrl100\":\"https://is5-ssl.mzstatic.com/image/thumb/Music/v4/00/ca/4d/00ca4d95-d6ff-952d-c621-edc162cdfc1e/source/100x100bb.jpg\", \"collectionPrice\":6.99, \"trackPrice\":1.29, \"releaseDate\":\"2008-06-09T07:00:00Z\", \"collectionExplicitness\":\"cleaned\", \"trackExplicitness\":\"cleaned\", \"discCount\":1, \"discNumber\":1, \"trackCount\":16, \"trackNumber\":3, \"trackTimeMillis\":221840, \"country\":\"USA\", \"currency\":\"USD\", \"primaryGenreName\":\"Hip-Hop/Rap\", \"contentAdvisoryRating\":\"Clean\", \"isStreamable\":true}, \\n{\"wrapperType\":\"track\", \"kind\":\"song\", \"artistId\":5869117, \"collectionId\":293990000, \"trackId\":293990016, \"artistName\":\"Lil Wayne\", \"collectionName\":\"Back to the Future\", \"trackName\":\"A Milli (feat. Bueno)\", \"collectionCensoredName\":\"Back to the Future\", \"trackCensoredName\":\"A Milli (feat. Bueno)\", \"collectionArtistId\":36270, \"collectionArtistName\":\"Various Artists\", \"artistViewUrl\":\"https://itunes.apple.com/us/artist/lil-wayne/5869117?uo=4\", \"collectionViewUrl\":\"https://itunes.apple.com/us/album/a-milli-feat-bueno/293990000?i=293990016&uo=4\", \"trackViewUrl\":\"https://itunes.apple.com/us/album/a-milli-feat-bueno/293990000?i=293990016&uo=4\", \\n\"previewUrl\":\"https://audio-ssl.itunes.apple.com/apple-assets-us-std-000001/Music5/v4/38/75/a2/3875a2a5-4ea9-a0b7-0d15-800f5609414c/mzaf_8285297254760734013.plus.aac.p.m4a\", \"artworkUrl30\":\"https://is1-ssl.mzstatic.com/image/thumb/Music/v4/f1/8e/b1/f18eb15e-c934-5b8e-6f53-c76139f9e3f0/source/30x30bb.jpg\", \"artworkUrl60\":\"https://is1-ssl.mzstatic.com/image/thumb/Music/v4/f1/8e/b1/f18eb15e-c934-5b8e-6f53-c76139f9e3f0/source/60x60bb.jpg\", \"artworkUrl100\":\"https://is1-ssl.mzstatic.com/image/thumb/Music/v4/f1/8e/b1/f18eb15e-c934-5b8e-6f53-c76139f9e3f0/source/100x100bb.jpg\", \"collectionPrice\":9.99, \"trackPrice\":0.99, \"releaseDate\":\"2008-10-15T07:00:00Z\", \"collectionExplicitness\":\"explicit\", \"trackExplicitness\":\"explicit\", \"discCount\":1, \"discNumber\":1, \"trackCount\":33, \"trackNumber\":3, \"trackTimeMillis\":146760, \"country\":\"USA\", \"currency\":\"USD\", \"primaryGenreName\":\"Hip-Hop/Rap\", \"contentAdvisoryRating\":\"Explicit\", \"isStreamable\":true}, \\n{\"wrapperType\":\"track\", \"kind\":\"song\", \"artistId\":337066127, \"collectionId\":1296838235, \"trackId\":1296839849, \"artistName\":\"D.J. GANG & Lil Wayne\", \"collectionName\":\"Still Major\", \"trackName\":\"A Milli (feat. Gekko G)\", \"collectionCensoredName\":\"Still Major\", \"trackCensoredName\":\"A Milli (feat. Gekko G)\", \"collectionArtistName\":\"D.J. GANG\", \"artistViewUrl\":\"https://itunes.apple.com/us/artist/d-j-gang/337066127?uo=4\", \"collectionViewUrl\":\"https://itunes.apple.com/us/album/a-milli-feat-gekko-g/1296838235?i=1296839849&uo=4\", \"trackViewUrl\":\"https://itunes.apple.com/us/album/a-milli-feat-gekko-g/1296838235?i=1296839849&uo=4\", \\n\"previewUrl\":\"https://audio-ssl.itunes.apple.com/apple-assets-us-std-000001/AudioPreview118/v4/a1/f4/4a/a1f44ac4-8c65-7cf4-ade3-8b9c93eb3640/mzaf_1290264757416046948.plus.aac.p.m4a\", \"artworkUrl30\":\"https://is2-ssl.mzstatic.com/image/thumb/Music118/v4/47/eb/6f/47eb6f23-dc02-f1fd-3bad-695141f459ea/source/30x30bb.jpg\", \"artworkUrl60\":\"https://is2-ssl.mzstatic.com/image/thumb/Music118/v4/47/eb/6f/47eb6f23-dc02-f1fd-3bad-695141f459ea/source/60x60bb.jpg\", \"artworkUrl100\":\"https://is2-ssl.mzstatic.com/image/thumb/Music118/v4/47/eb/6f/47eb6f23-dc02-f1fd-3bad-695141f459ea/source/100x100bb.jpg\", \"collectionPrice\":10.99, \"trackPrice\":1.29, \"releaseDate\":\"2008-08-08T07:00:00Z\", \"collectionExplicitness\":\"explicit\", \"trackExplicitness\":\"notExplicit\", \"discCount\":1, \"discNumber\":1, \"trackCount\":29, \"trackNumber\":21, \"trackTimeMillis\":199893, \"country\":\"USA\", \"currency\":\"USD\", \"primaryGenreName\":\"Hip-Hop/Rap\", \"isStreamable\":true}, \\n{\"wrapperType\":\"track\", \"kind\":\"song\", \"artistId\":1236215220, \"collectionId\":1354493268, \"trackId\":1354493973, \"artistName\":\"BZ\", \"collectionName\":\"Vers\\xc3\\xa1til - Single\", \"trackName\":\"Vers\\xc3\\xa1til\", \"collectionCensoredName\":\"Vers\\xc3\\xa1til - Single\", \"trackCensoredName\":\"Vers\\xc3\\xa1til\", \"artistViewUrl\":\"https://itunes.apple.com/us/artist/bz/1236215220?uo=4\", \"collectionViewUrl\":\"https://itunes.apple.com/us/album/vers%C3%A1til/1354493268?i=1354493973&uo=4\", \"trackViewUrl\":\"https://itunes.apple.com/us/album/vers%C3%A1til/1354493268?i=1354493973&uo=4\", \\n\"previewUrl\":\"https://audio-ssl.itunes.apple.com/apple-assets-us-std-000001/AudioPreview118/v4/47/7d/ac/477dacfd-fb1d-9964-2f74-c123673cf967/mzaf_1204505856922659771.plus.aac.p.m4a\", \"artworkUrl30\":\"https://is2-ssl.mzstatic.com/image/thumb/Music118/v4/fc/27/0a/fc270a90-6ce5-a640-b465-f57467900576/source/30x30bb.jpg\", \"artworkUrl60\":\"https://is2-ssl.mzstatic.com/image/thumb/Music118/v4/fc/27/0a/fc270a90-6ce5-a640-b465-f57467900576/source/60x60bb.jpg\", \"artworkUrl100\":\"https://is2-ssl.mzstatic.com/image/thumb/Music118/v4/fc/27/0a/fc270a90-6ce5-a640-b465-f57467900576/source/100x100bb.jpg\", \"collectionPrice\":0.99, \"trackPrice\":0.99, \"releaseDate\":\"2018-03-04T08:00:00Z\", \"collectionExplicitness\":\"notExplicit\", \"trackExplicitness\":\"notExplicit\", \"discCount\":1, \"discNumber\":1, \"trackCount\":1, \"trackNumber\":1, \"trackTimeMillis\":169080, \"country\":\"USA\", \"currency\":\"USD\", \"primaryGenreName\":\"Hip-Hop/Rap\", \"isStreamable\":true}, \\n{\"wrapperType\":\"track\", \"kind\":\"song\", \"artistId\":1361812576, \"collectionId\":1397701292, \"trackId\":1397701293, \"artistName\":\"600$elly\", \"collectionName\":\"A Milli Lil Wayne Dedication - Single\", \"trackName\":\"A Milli Lil Wayne Dedication\", \"collectionCensoredName\":\"A Milli Lil Wayne Dedication - Single\", \"trackCensoredName\":\"A Milli Lil Wayne Dedication\", \"artistViewUrl\":\"https://itunes.apple.com/us/artist/600%24elly/1361812576?uo=4\", \"collectionViewUrl\":\"https://itunes.apple.com/us/album/a-milli-lil-wayne-dedication/1397701292?i=1397701293&uo=4\", \"trackViewUrl\":\"https://itunes.apple.com/us/album/a-milli-lil-wayne-dedication/1397701292?i=1397701293&uo=4\", \\n\"previewUrl\":\"https://audio-ssl.itunes.apple.com/apple-assets-us-std-000001/AudioPreview125/v4/7b/63/f6/7b63f613-f675-c574-73fc-21d6eb9650f2/mzaf_5164400719068375353.plus.aac.p.m4a\", \"artworkUrl30\":\"https://is3-ssl.mzstatic.com/image/thumb/Music115/v4/67/46/c0/6746c042-9b4b-8a39-3602-756661f5514c/source/30x30bb.jpg\", \"artworkUrl60\":\"https://is3-ssl.mzstatic.com/image/thumb/Music115/v4/67/46/c0/6746c042-9b4b-8a39-3602-756661f5514c/source/60x60bb.jpg\", \"artworkUrl100\":\"https://is3-ssl.mzstatic.com/image/thumb/Music115/v4/67/46/c0/6746c042-9b4b-8a39-3602-756661f5514c/source/100x100bb.jpg\", \"collectionPrice\":0.99, \"trackPrice\":0.99, \"releaseDate\":\"2018-06-11T07:00:00Z\", \"collectionExplicitness\":\"explicit\", \"trackExplicitness\":\"explicit\", \"discCount\":1, \"discNumber\":1, \"trackCount\":1, \"trackNumber\":1, \"trackTimeMillis\":210051, \"country\":\"USA\", \"currency\":\"USD\", \"primaryGenreName\":\"Hip-Hop/Rap\", \"contentAdvisoryRating\":\"Explicit\", \"isStreamable\":true}, \\n{\"wrapperType\":\"track\", \"kind\":\"song\", \"artistId\":5869117, \"collectionId\":1340676422, \"trackId\":1340676565, \"artistName\":\"Lil Wayne\", \"collectionName\":\"Skiing Workout Mix\", \"trackName\":\"A Milli\", \"collectionCensoredName\":\"Skiing Workout Mix\", \"trackCensoredName\":\"A Milli\", \"collectionArtistId\":36270, \"collectionArtistName\":\"Various Artists\", \"artistViewUrl\":\"https://itunes.apple.com/us/artist/lil-wayne/5869117?uo=4\", \"collectionViewUrl\":\"https://itunes.apple.com/us/album/a-milli/1340676422?i=1340676565&uo=4\", \"trackViewUrl\":\"https://itunes.apple.com/us/album/a-milli/1340676422?i=1340676565&uo=4\", \\n\"previewUrl\":\"https://audio-ssl.itunes.apple.com/apple-assets-us-std-000001/AudioPreview118/v4/e5/55/e0/e555e0b0-3ac0-26fb-6f5c-dd815190afaa/mzaf_269484045335779204.plus.aac.p.m4a\", \"artworkUrl30\":\"https://is3-ssl.mzstatic.com/image/thumb/Music128/v4/b6/69/20/b66920e9-1cda-e065-7af2-6836f42efa08/source/30x30bb.jpg\", \"artworkUrl60\":\"https://is3-ssl.mzstatic.com/image/thumb/Music128/v4/b6/69/20/b66920e9-1cda-e065-7af2-6836f42efa08/source/60x60bb.jpg\", \"artworkUrl100\":\"https://is3-ssl.mzstatic.com/image/thumb/Music128/v4/b6/69/20/b66920e9-1cda-e065-7af2-6836f42efa08/source/100x100bb.jpg\", \"releaseDate\":\"2008-03-11T07:00:00Z\", \"collectionExplicitness\":\"explicit\", \"trackExplicitness\":\"explicit\", \"discCount\":1, \"discNumber\":1, \"trackCount\":28, \"trackNumber\":15, \"trackTimeMillis\":221760, \"country\":\"USA\", \"currency\":\"USD\", \"primaryGenreName\":\"Hip-Hop/Rap\", \"contentAdvisoryRating\":\"Explicit\", \"isStreamable\":true}, \\n{\"wrapperType\":\"track\", \"kind\":\"song\", \"artistId\":1457072451, \"collectionId\":1457071855, \"trackId\":1457072665, \"artistName\":\"San Benito\", \"collectionName\":\"La Nueva Religion - EP\", \"trackName\":\"Salimos a Buscarte\", \"collectionCensoredName\":\"La Nueva Religion - EP\", \"trackCensoredName\":\"Salimos a Buscarte\", \"artistViewUrl\":\"https://itunes.apple.com/us/artist/san-benito/1457072451?uo=4\", \"collectionViewUrl\":\"https://itunes.apple.com/us/album/salimos-a-buscarte/1457071855?i=1457072665&uo=4\", \"trackViewUrl\":\"https://itunes.apple.com/us/album/salimos-a-buscarte/1457071855?i=1457072665&uo=4\", \\n\"previewUrl\":\"https://audio-ssl.itunes.apple.com/apple-assets-us-std-000001/AudioPreview113/v4/95/68/dc/9568dc19-11d2-684f-9a20-7a3971c83823/mzaf_3272940217480510983.plus.aac.p.m4a\", \"artworkUrl30\":\"https://is5-ssl.mzstatic.com/image/thumb/Music123/v4/dd/df/f9/dddff935-f037-9b90-02ea-7701cea205f5/source/30x30bb.jpg\", \"artworkUrl60\":\"https://is5-ssl.mzstatic.com/image/thumb/Music123/v4/dd/df/f9/dddff935-f037-9b90-02ea-7701cea205f5/source/60x60bb.jpg\", \"artworkUrl100\":\"https://is5-ssl.mzstatic.com/image/thumb/Music123/v4/dd/df/f9/dddff935-f037-9b90-02ea-7701cea205f5/source/100x100bb.jpg\", \"collectionPrice\":4.95, \"trackPrice\":0.99, \"releaseDate\":\"2019-03-19T07:00:00Z\", \"collectionExplicitness\":\"explicit\", \"trackExplicitness\":\"explicit\", \"discCount\":1, \"discNumber\":1, \"trackCount\":5, \"trackNumber\":5, \"trackTimeMillis\":195944, \"country\":\"USA\", \"currency\":\"USD\", \"primaryGenreName\":\"Latino\", \"contentAdvisoryRating\":\"Explicit\", \"isStreamable\":true}, \\n{\"wrapperType\":\"track\", \"kind\":\"song\", \"artistId\":805553893, \"collectionId\":1159676283, \"trackId\":1159676290, \"artistName\":\"Shadez The Misfit\", \"collectionName\":\"Ne Plus Ultra - EP\", \"trackName\":\"Fires (feat. Bipolar Sunshine)\", \"collectionCensoredName\":\"Ne Plus Ultra - EP\", \"trackCensoredName\":\"Fires (feat. Bipolar Sunshine)\", \"artistViewUrl\":\"https://itunes.apple.com/us/artist/shadez-the-misfit/805553893?uo=4\", \"collectionViewUrl\":\"https://itunes.apple.com/us/album/fires-feat-bipolar-sunshine/1159676283?i=1159676290&uo=4\", \"trackViewUrl\":\"https://itunes.apple.com/us/album/fires-feat-bipolar-sunshine/1159676283?i=1159676290&uo=4\", \\n\"previewUrl\":\"https://audio-ssl.itunes.apple.com/apple-assets-us-std-000001/AudioPreview71/v4/c3/e4/7a/c3e47a71-f631-d259-4614-2b774b85cc33/mzaf_3810256362430999175.plus.aac.p.m4a\", \"artworkUrl30\":\"https://is2-ssl.mzstatic.com/image/thumb/Music62/v4/77/07/42/7707428e-8a83-3703-0dd5-f0850c265701/source/30x30bb.jpg\", \"artworkUrl60\":\"https://is2-ssl.mzstatic.com/image/thumb/Music62/v4/77/07/42/7707428e-8a83-3703-0dd5-f0850c265701/source/60x60bb.jpg\", \"artworkUrl100\":\"https://is2-ssl.mzstatic.com/image/thumb/Music62/v4/77/07/42/7707428e-8a83-3703-0dd5-f0850c265701/source/100x100bb.jpg\", \"collectionPrice\":9.99, \"trackPrice\":0.99, \"releaseDate\":\"2016-05-20T07:00:00Z\", \"collectionExplicitness\":\"cleaned\", \"trackExplicitness\":\"notExplicit\", \"discCount\":1, \"discNumber\":1, \"trackCount\":8, \"trackNumber\":4, \"trackTimeMillis\":213889, \"country\":\"USA\", \"currency\":\"USD\", \"primaryGenreName\":\"Hip-Hop/Rap\", \"isStreamable\":true}, \\n{\"wrapperType\":\"track\", \"kind\":\"song\", \"artistId\":585049785, \"collectionId\":941431731, \"trackId\":941431741, \"artistName\":\"Don Kalavera\", \"collectionName\":\"Kongreso Zombi\", \"trackName\":\"Breaked Bad\", \"collectionCensoredName\":\"Kongreso Zombi\", \"trackCensoredName\":\"Breaked Bad\", \"artistViewUrl\":\"https://itunes.apple.com/us/artist/don-kalavera/585049785?uo=4\", \"collectionViewUrl\":\"https://itunes.apple.com/us/album/breaked-bad/941431731?i=941431741&uo=4\", \"trackViewUrl\":\"https://itunes.apple.com/us/album/breaked-bad/941431731?i=941431741&uo=4\", \\n\"previewUrl\":\"https://audio-ssl.itunes.apple.com/apple-assets-us-std-000001/Music3/v4/c5/96/5b/c5965b30-6280-15f6-3de7-279618ea8339/mzaf_7720668265457610552.plus.aac.p.m4a\", \"artworkUrl30\":\"https://is5-ssl.mzstatic.com/image/thumb/Music5/v4/07/72/83/07728337-e094-ba87-9361-2da88bc75fd7/source/30x30bb.jpg\", \"artworkUrl60\":\"https://is5-ssl.mzstatic.com/image/thumb/Music5/v4/07/72/83/07728337-e094-ba87-9361-2da88bc75fd7/source/60x60bb.jpg\", \"artworkUrl100\":\"https://is5-ssl.mzstatic.com/image/thumb/Music5/v4/07/72/83/07728337-e094-ba87-9361-2da88bc75fd7/source/100x100bb.jpg\", \"collectionPrice\":7.99, \"trackPrice\":1.29, \"releaseDate\":\"2014-11-18T08:00:00Z\", \"collectionExplicitness\":\"explicit\", \"trackExplicitness\":\"explicit\", \"discCount\":1, \"discNumber\":1, \"trackCount\":16, \"trackNumber\":3, \"trackTimeMillis\":193825, \"country\":\"USA\", \"currency\":\"USD\", \"primaryGenreName\":\"Hip-Hop/Rap\", \"contentAdvisoryRating\":\"Explicit\", \"isStreamable\":true}]\\n}\\n\\n\\n'"
      ]
     },
     "execution_count": 50,
     "metadata": {},
     "output_type": "execute_result"
    }
   ],
   "source": [
    "d"
   ]
  },
  {
   "cell_type": "code",
   "execution_count": 51,
   "metadata": {},
   "outputs": [],
   "source": [
    "encoding = ituneURL.info().get_content_charset('utf-8')\n",
    "json_obj = json.loads(d.decode(encoding))"
   ]
  },
  {
   "cell_type": "code",
   "execution_count": 52,
   "metadata": {},
   "outputs": [
    {
     "data": {
      "text/plain": [
       "{'resultCount': 10,\n",
       " 'results': [{'wrapperType': 'track',\n",
       "   'kind': 'song',\n",
       "   'artistId': 5869117,\n",
       "   'collectionId': 287818308,\n",
       "   'trackId': 287818317,\n",
       "   'artistName': 'Lil Wayne',\n",
       "   'collectionName': 'Tha Carter III',\n",
       "   'trackName': 'A Milli',\n",
       "   'collectionCensoredName': 'Tha Carter III',\n",
       "   'trackCensoredName': 'A Milli',\n",
       "   'artistViewUrl': 'https://itunes.apple.com/us/artist/lil-wayne/5869117?uo=4',\n",
       "   'collectionViewUrl': 'https://itunes.apple.com/us/album/a-milli/287818308?i=287818317&uo=4',\n",
       "   'trackViewUrl': 'https://itunes.apple.com/us/album/a-milli/287818308?i=287818317&uo=4',\n",
       "   'previewUrl': 'https://audio-ssl.itunes.apple.com/apple-assets-us-std-000001/Music/09/4c/be/mzm.vnazmgvl.aac.p.m4a',\n",
       "   'artworkUrl30': 'https://is5-ssl.mzstatic.com/image/thumb/Music/v4/f7/6a/0b/f76a0b19-e704-cd2d-bd8c-ba941d5ab26a/source/30x30bb.jpg',\n",
       "   'artworkUrl60': 'https://is5-ssl.mzstatic.com/image/thumb/Music/v4/f7/6a/0b/f76a0b19-e704-cd2d-bd8c-ba941d5ab26a/source/60x60bb.jpg',\n",
       "   'artworkUrl100': 'https://is5-ssl.mzstatic.com/image/thumb/Music/v4/f7/6a/0b/f76a0b19-e704-cd2d-bd8c-ba941d5ab26a/source/100x100bb.jpg',\n",
       "   'collectionPrice': 6.99,\n",
       "   'trackPrice': 1.29,\n",
       "   'releaseDate': '2008-04-23T07:00:00Z',\n",
       "   'collectionExplicitness': 'explicit',\n",
       "   'trackExplicitness': 'explicit',\n",
       "   'discCount': 1,\n",
       "   'discNumber': 1,\n",
       "   'trackCount': 18,\n",
       "   'trackNumber': 3,\n",
       "   'trackTimeMillis': 221747,\n",
       "   'country': 'USA',\n",
       "   'currency': 'USD',\n",
       "   'primaryGenreName': 'Hip-Hop/Rap',\n",
       "   'contentAdvisoryRating': 'Explicit',\n",
       "   'isStreamable': True},\n",
       "  {'wrapperType': 'track',\n",
       "   'kind': 'song',\n",
       "   'artistId': 5869117,\n",
       "   'collectionId': 287818023,\n",
       "   'trackId': 287818278,\n",
       "   'artistName': 'Lil Wayne',\n",
       "   'collectionName': 'Tha Carter III',\n",
       "   'trackName': 'A Milli',\n",
       "   'collectionCensoredName': 'Tha Carter III',\n",
       "   'trackCensoredName': 'A Milli',\n",
       "   'artistViewUrl': 'https://itunes.apple.com/us/artist/lil-wayne/5869117?uo=4',\n",
       "   'collectionViewUrl': 'https://itunes.apple.com/us/album/a-milli/287818023?i=287818278&uo=4',\n",
       "   'trackViewUrl': 'https://itunes.apple.com/us/album/a-milli/287818023?i=287818278&uo=4',\n",
       "   'previewUrl': 'https://audio-ssl.itunes.apple.com/apple-assets-us-std-000001/Music/03/57/ba/mzm.nmfnlgga.aac.p.m4a',\n",
       "   'artworkUrl30': 'https://is5-ssl.mzstatic.com/image/thumb/Music/v4/00/ca/4d/00ca4d95-d6ff-952d-c621-edc162cdfc1e/source/30x30bb.jpg',\n",
       "   'artworkUrl60': 'https://is5-ssl.mzstatic.com/image/thumb/Music/v4/00/ca/4d/00ca4d95-d6ff-952d-c621-edc162cdfc1e/source/60x60bb.jpg',\n",
       "   'artworkUrl100': 'https://is5-ssl.mzstatic.com/image/thumb/Music/v4/00/ca/4d/00ca4d95-d6ff-952d-c621-edc162cdfc1e/source/100x100bb.jpg',\n",
       "   'collectionPrice': 6.99,\n",
       "   'trackPrice': 1.29,\n",
       "   'releaseDate': '2008-06-09T07:00:00Z',\n",
       "   'collectionExplicitness': 'cleaned',\n",
       "   'trackExplicitness': 'cleaned',\n",
       "   'discCount': 1,\n",
       "   'discNumber': 1,\n",
       "   'trackCount': 16,\n",
       "   'trackNumber': 3,\n",
       "   'trackTimeMillis': 221840,\n",
       "   'country': 'USA',\n",
       "   'currency': 'USD',\n",
       "   'primaryGenreName': 'Hip-Hop/Rap',\n",
       "   'contentAdvisoryRating': 'Clean',\n",
       "   'isStreamable': True},\n",
       "  {'wrapperType': 'track',\n",
       "   'kind': 'song',\n",
       "   'artistId': 5869117,\n",
       "   'collectionId': 293990000,\n",
       "   'trackId': 293990016,\n",
       "   'artistName': 'Lil Wayne',\n",
       "   'collectionName': 'Back to the Future',\n",
       "   'trackName': 'A Milli (feat. Bueno)',\n",
       "   'collectionCensoredName': 'Back to the Future',\n",
       "   'trackCensoredName': 'A Milli (feat. Bueno)',\n",
       "   'collectionArtistId': 36270,\n",
       "   'collectionArtistName': 'Various Artists',\n",
       "   'artistViewUrl': 'https://itunes.apple.com/us/artist/lil-wayne/5869117?uo=4',\n",
       "   'collectionViewUrl': 'https://itunes.apple.com/us/album/a-milli-feat-bueno/293990000?i=293990016&uo=4',\n",
       "   'trackViewUrl': 'https://itunes.apple.com/us/album/a-milli-feat-bueno/293990000?i=293990016&uo=4',\n",
       "   'previewUrl': 'https://audio-ssl.itunes.apple.com/apple-assets-us-std-000001/Music5/v4/38/75/a2/3875a2a5-4ea9-a0b7-0d15-800f5609414c/mzaf_8285297254760734013.plus.aac.p.m4a',\n",
       "   'artworkUrl30': 'https://is1-ssl.mzstatic.com/image/thumb/Music/v4/f1/8e/b1/f18eb15e-c934-5b8e-6f53-c76139f9e3f0/source/30x30bb.jpg',\n",
       "   'artworkUrl60': 'https://is1-ssl.mzstatic.com/image/thumb/Music/v4/f1/8e/b1/f18eb15e-c934-5b8e-6f53-c76139f9e3f0/source/60x60bb.jpg',\n",
       "   'artworkUrl100': 'https://is1-ssl.mzstatic.com/image/thumb/Music/v4/f1/8e/b1/f18eb15e-c934-5b8e-6f53-c76139f9e3f0/source/100x100bb.jpg',\n",
       "   'collectionPrice': 9.99,\n",
       "   'trackPrice': 0.99,\n",
       "   'releaseDate': '2008-10-15T07:00:00Z',\n",
       "   'collectionExplicitness': 'explicit',\n",
       "   'trackExplicitness': 'explicit',\n",
       "   'discCount': 1,\n",
       "   'discNumber': 1,\n",
       "   'trackCount': 33,\n",
       "   'trackNumber': 3,\n",
       "   'trackTimeMillis': 146760,\n",
       "   'country': 'USA',\n",
       "   'currency': 'USD',\n",
       "   'primaryGenreName': 'Hip-Hop/Rap',\n",
       "   'contentAdvisoryRating': 'Explicit',\n",
       "   'isStreamable': True},\n",
       "  {'wrapperType': 'track',\n",
       "   'kind': 'song',\n",
       "   'artistId': 337066127,\n",
       "   'collectionId': 1296838235,\n",
       "   'trackId': 1296839849,\n",
       "   'artistName': 'D.J. GANG & Lil Wayne',\n",
       "   'collectionName': 'Still Major',\n",
       "   'trackName': 'A Milli (feat. Gekko G)',\n",
       "   'collectionCensoredName': 'Still Major',\n",
       "   'trackCensoredName': 'A Milli (feat. Gekko G)',\n",
       "   'collectionArtistName': 'D.J. GANG',\n",
       "   'artistViewUrl': 'https://itunes.apple.com/us/artist/d-j-gang/337066127?uo=4',\n",
       "   'collectionViewUrl': 'https://itunes.apple.com/us/album/a-milli-feat-gekko-g/1296838235?i=1296839849&uo=4',\n",
       "   'trackViewUrl': 'https://itunes.apple.com/us/album/a-milli-feat-gekko-g/1296838235?i=1296839849&uo=4',\n",
       "   'previewUrl': 'https://audio-ssl.itunes.apple.com/apple-assets-us-std-000001/AudioPreview118/v4/a1/f4/4a/a1f44ac4-8c65-7cf4-ade3-8b9c93eb3640/mzaf_1290264757416046948.plus.aac.p.m4a',\n",
       "   'artworkUrl30': 'https://is2-ssl.mzstatic.com/image/thumb/Music118/v4/47/eb/6f/47eb6f23-dc02-f1fd-3bad-695141f459ea/source/30x30bb.jpg',\n",
       "   'artworkUrl60': 'https://is2-ssl.mzstatic.com/image/thumb/Music118/v4/47/eb/6f/47eb6f23-dc02-f1fd-3bad-695141f459ea/source/60x60bb.jpg',\n",
       "   'artworkUrl100': 'https://is2-ssl.mzstatic.com/image/thumb/Music118/v4/47/eb/6f/47eb6f23-dc02-f1fd-3bad-695141f459ea/source/100x100bb.jpg',\n",
       "   'collectionPrice': 10.99,\n",
       "   'trackPrice': 1.29,\n",
       "   'releaseDate': '2008-08-08T07:00:00Z',\n",
       "   'collectionExplicitness': 'explicit',\n",
       "   'trackExplicitness': 'notExplicit',\n",
       "   'discCount': 1,\n",
       "   'discNumber': 1,\n",
       "   'trackCount': 29,\n",
       "   'trackNumber': 21,\n",
       "   'trackTimeMillis': 199893,\n",
       "   'country': 'USA',\n",
       "   'currency': 'USD',\n",
       "   'primaryGenreName': 'Hip-Hop/Rap',\n",
       "   'isStreamable': True},\n",
       "  {'wrapperType': 'track',\n",
       "   'kind': 'song',\n",
       "   'artistId': 1236215220,\n",
       "   'collectionId': 1354493268,\n",
       "   'trackId': 1354493973,\n",
       "   'artistName': 'BZ',\n",
       "   'collectionName': 'Versátil - Single',\n",
       "   'trackName': 'Versátil',\n",
       "   'collectionCensoredName': 'Versátil - Single',\n",
       "   'trackCensoredName': 'Versátil',\n",
       "   'artistViewUrl': 'https://itunes.apple.com/us/artist/bz/1236215220?uo=4',\n",
       "   'collectionViewUrl': 'https://itunes.apple.com/us/album/vers%C3%A1til/1354493268?i=1354493973&uo=4',\n",
       "   'trackViewUrl': 'https://itunes.apple.com/us/album/vers%C3%A1til/1354493268?i=1354493973&uo=4',\n",
       "   'previewUrl': 'https://audio-ssl.itunes.apple.com/apple-assets-us-std-000001/AudioPreview118/v4/47/7d/ac/477dacfd-fb1d-9964-2f74-c123673cf967/mzaf_1204505856922659771.plus.aac.p.m4a',\n",
       "   'artworkUrl30': 'https://is2-ssl.mzstatic.com/image/thumb/Music118/v4/fc/27/0a/fc270a90-6ce5-a640-b465-f57467900576/source/30x30bb.jpg',\n",
       "   'artworkUrl60': 'https://is2-ssl.mzstatic.com/image/thumb/Music118/v4/fc/27/0a/fc270a90-6ce5-a640-b465-f57467900576/source/60x60bb.jpg',\n",
       "   'artworkUrl100': 'https://is2-ssl.mzstatic.com/image/thumb/Music118/v4/fc/27/0a/fc270a90-6ce5-a640-b465-f57467900576/source/100x100bb.jpg',\n",
       "   'collectionPrice': 0.99,\n",
       "   'trackPrice': 0.99,\n",
       "   'releaseDate': '2018-03-04T08:00:00Z',\n",
       "   'collectionExplicitness': 'notExplicit',\n",
       "   'trackExplicitness': 'notExplicit',\n",
       "   'discCount': 1,\n",
       "   'discNumber': 1,\n",
       "   'trackCount': 1,\n",
       "   'trackNumber': 1,\n",
       "   'trackTimeMillis': 169080,\n",
       "   'country': 'USA',\n",
       "   'currency': 'USD',\n",
       "   'primaryGenreName': 'Hip-Hop/Rap',\n",
       "   'isStreamable': True},\n",
       "  {'wrapperType': 'track',\n",
       "   'kind': 'song',\n",
       "   'artistId': 1361812576,\n",
       "   'collectionId': 1397701292,\n",
       "   'trackId': 1397701293,\n",
       "   'artistName': '600$elly',\n",
       "   'collectionName': 'A Milli Lil Wayne Dedication - Single',\n",
       "   'trackName': 'A Milli Lil Wayne Dedication',\n",
       "   'collectionCensoredName': 'A Milli Lil Wayne Dedication - Single',\n",
       "   'trackCensoredName': 'A Milli Lil Wayne Dedication',\n",
       "   'artistViewUrl': 'https://itunes.apple.com/us/artist/600%24elly/1361812576?uo=4',\n",
       "   'collectionViewUrl': 'https://itunes.apple.com/us/album/a-milli-lil-wayne-dedication/1397701292?i=1397701293&uo=4',\n",
       "   'trackViewUrl': 'https://itunes.apple.com/us/album/a-milli-lil-wayne-dedication/1397701292?i=1397701293&uo=4',\n",
       "   'previewUrl': 'https://audio-ssl.itunes.apple.com/apple-assets-us-std-000001/AudioPreview125/v4/7b/63/f6/7b63f613-f675-c574-73fc-21d6eb9650f2/mzaf_5164400719068375353.plus.aac.p.m4a',\n",
       "   'artworkUrl30': 'https://is3-ssl.mzstatic.com/image/thumb/Music115/v4/67/46/c0/6746c042-9b4b-8a39-3602-756661f5514c/source/30x30bb.jpg',\n",
       "   'artworkUrl60': 'https://is3-ssl.mzstatic.com/image/thumb/Music115/v4/67/46/c0/6746c042-9b4b-8a39-3602-756661f5514c/source/60x60bb.jpg',\n",
       "   'artworkUrl100': 'https://is3-ssl.mzstatic.com/image/thumb/Music115/v4/67/46/c0/6746c042-9b4b-8a39-3602-756661f5514c/source/100x100bb.jpg',\n",
       "   'collectionPrice': 0.99,\n",
       "   'trackPrice': 0.99,\n",
       "   'releaseDate': '2018-06-11T07:00:00Z',\n",
       "   'collectionExplicitness': 'explicit',\n",
       "   'trackExplicitness': 'explicit',\n",
       "   'discCount': 1,\n",
       "   'discNumber': 1,\n",
       "   'trackCount': 1,\n",
       "   'trackNumber': 1,\n",
       "   'trackTimeMillis': 210051,\n",
       "   'country': 'USA',\n",
       "   'currency': 'USD',\n",
       "   'primaryGenreName': 'Hip-Hop/Rap',\n",
       "   'contentAdvisoryRating': 'Explicit',\n",
       "   'isStreamable': True},\n",
       "  {'wrapperType': 'track',\n",
       "   'kind': 'song',\n",
       "   'artistId': 5869117,\n",
       "   'collectionId': 1340676422,\n",
       "   'trackId': 1340676565,\n",
       "   'artistName': 'Lil Wayne',\n",
       "   'collectionName': 'Skiing Workout Mix',\n",
       "   'trackName': 'A Milli',\n",
       "   'collectionCensoredName': 'Skiing Workout Mix',\n",
       "   'trackCensoredName': 'A Milli',\n",
       "   'collectionArtistId': 36270,\n",
       "   'collectionArtistName': 'Various Artists',\n",
       "   'artistViewUrl': 'https://itunes.apple.com/us/artist/lil-wayne/5869117?uo=4',\n",
       "   'collectionViewUrl': 'https://itunes.apple.com/us/album/a-milli/1340676422?i=1340676565&uo=4',\n",
       "   'trackViewUrl': 'https://itunes.apple.com/us/album/a-milli/1340676422?i=1340676565&uo=4',\n",
       "   'previewUrl': 'https://audio-ssl.itunes.apple.com/apple-assets-us-std-000001/AudioPreview118/v4/e5/55/e0/e555e0b0-3ac0-26fb-6f5c-dd815190afaa/mzaf_269484045335779204.plus.aac.p.m4a',\n",
       "   'artworkUrl30': 'https://is3-ssl.mzstatic.com/image/thumb/Music128/v4/b6/69/20/b66920e9-1cda-e065-7af2-6836f42efa08/source/30x30bb.jpg',\n",
       "   'artworkUrl60': 'https://is3-ssl.mzstatic.com/image/thumb/Music128/v4/b6/69/20/b66920e9-1cda-e065-7af2-6836f42efa08/source/60x60bb.jpg',\n",
       "   'artworkUrl100': 'https://is3-ssl.mzstatic.com/image/thumb/Music128/v4/b6/69/20/b66920e9-1cda-e065-7af2-6836f42efa08/source/100x100bb.jpg',\n",
       "   'releaseDate': '2008-03-11T07:00:00Z',\n",
       "   'collectionExplicitness': 'explicit',\n",
       "   'trackExplicitness': 'explicit',\n",
       "   'discCount': 1,\n",
       "   'discNumber': 1,\n",
       "   'trackCount': 28,\n",
       "   'trackNumber': 15,\n",
       "   'trackTimeMillis': 221760,\n",
       "   'country': 'USA',\n",
       "   'currency': 'USD',\n",
       "   'primaryGenreName': 'Hip-Hop/Rap',\n",
       "   'contentAdvisoryRating': 'Explicit',\n",
       "   'isStreamable': True},\n",
       "  {'wrapperType': 'track',\n",
       "   'kind': 'song',\n",
       "   'artistId': 1457072451,\n",
       "   'collectionId': 1457071855,\n",
       "   'trackId': 1457072665,\n",
       "   'artistName': 'San Benito',\n",
       "   'collectionName': 'La Nueva Religion - EP',\n",
       "   'trackName': 'Salimos a Buscarte',\n",
       "   'collectionCensoredName': 'La Nueva Religion - EP',\n",
       "   'trackCensoredName': 'Salimos a Buscarte',\n",
       "   'artistViewUrl': 'https://itunes.apple.com/us/artist/san-benito/1457072451?uo=4',\n",
       "   'collectionViewUrl': 'https://itunes.apple.com/us/album/salimos-a-buscarte/1457071855?i=1457072665&uo=4',\n",
       "   'trackViewUrl': 'https://itunes.apple.com/us/album/salimos-a-buscarte/1457071855?i=1457072665&uo=4',\n",
       "   'previewUrl': 'https://audio-ssl.itunes.apple.com/apple-assets-us-std-000001/AudioPreview113/v4/95/68/dc/9568dc19-11d2-684f-9a20-7a3971c83823/mzaf_3272940217480510983.plus.aac.p.m4a',\n",
       "   'artworkUrl30': 'https://is5-ssl.mzstatic.com/image/thumb/Music123/v4/dd/df/f9/dddff935-f037-9b90-02ea-7701cea205f5/source/30x30bb.jpg',\n",
       "   'artworkUrl60': 'https://is5-ssl.mzstatic.com/image/thumb/Music123/v4/dd/df/f9/dddff935-f037-9b90-02ea-7701cea205f5/source/60x60bb.jpg',\n",
       "   'artworkUrl100': 'https://is5-ssl.mzstatic.com/image/thumb/Music123/v4/dd/df/f9/dddff935-f037-9b90-02ea-7701cea205f5/source/100x100bb.jpg',\n",
       "   'collectionPrice': 4.95,\n",
       "   'trackPrice': 0.99,\n",
       "   'releaseDate': '2019-03-19T07:00:00Z',\n",
       "   'collectionExplicitness': 'explicit',\n",
       "   'trackExplicitness': 'explicit',\n",
       "   'discCount': 1,\n",
       "   'discNumber': 1,\n",
       "   'trackCount': 5,\n",
       "   'trackNumber': 5,\n",
       "   'trackTimeMillis': 195944,\n",
       "   'country': 'USA',\n",
       "   'currency': 'USD',\n",
       "   'primaryGenreName': 'Latino',\n",
       "   'contentAdvisoryRating': 'Explicit',\n",
       "   'isStreamable': True},\n",
       "  {'wrapperType': 'track',\n",
       "   'kind': 'song',\n",
       "   'artistId': 805553893,\n",
       "   'collectionId': 1159676283,\n",
       "   'trackId': 1159676290,\n",
       "   'artistName': 'Shadez The Misfit',\n",
       "   'collectionName': 'Ne Plus Ultra - EP',\n",
       "   'trackName': 'Fires (feat. Bipolar Sunshine)',\n",
       "   'collectionCensoredName': 'Ne Plus Ultra - EP',\n",
       "   'trackCensoredName': 'Fires (feat. Bipolar Sunshine)',\n",
       "   'artistViewUrl': 'https://itunes.apple.com/us/artist/shadez-the-misfit/805553893?uo=4',\n",
       "   'collectionViewUrl': 'https://itunes.apple.com/us/album/fires-feat-bipolar-sunshine/1159676283?i=1159676290&uo=4',\n",
       "   'trackViewUrl': 'https://itunes.apple.com/us/album/fires-feat-bipolar-sunshine/1159676283?i=1159676290&uo=4',\n",
       "   'previewUrl': 'https://audio-ssl.itunes.apple.com/apple-assets-us-std-000001/AudioPreview71/v4/c3/e4/7a/c3e47a71-f631-d259-4614-2b774b85cc33/mzaf_3810256362430999175.plus.aac.p.m4a',\n",
       "   'artworkUrl30': 'https://is2-ssl.mzstatic.com/image/thumb/Music62/v4/77/07/42/7707428e-8a83-3703-0dd5-f0850c265701/source/30x30bb.jpg',\n",
       "   'artworkUrl60': 'https://is2-ssl.mzstatic.com/image/thumb/Music62/v4/77/07/42/7707428e-8a83-3703-0dd5-f0850c265701/source/60x60bb.jpg',\n",
       "   'artworkUrl100': 'https://is2-ssl.mzstatic.com/image/thumb/Music62/v4/77/07/42/7707428e-8a83-3703-0dd5-f0850c265701/source/100x100bb.jpg',\n",
       "   'collectionPrice': 9.99,\n",
       "   'trackPrice': 0.99,\n",
       "   'releaseDate': '2016-05-20T07:00:00Z',\n",
       "   'collectionExplicitness': 'cleaned',\n",
       "   'trackExplicitness': 'notExplicit',\n",
       "   'discCount': 1,\n",
       "   'discNumber': 1,\n",
       "   'trackCount': 8,\n",
       "   'trackNumber': 4,\n",
       "   'trackTimeMillis': 213889,\n",
       "   'country': 'USA',\n",
       "   'currency': 'USD',\n",
       "   'primaryGenreName': 'Hip-Hop/Rap',\n",
       "   'isStreamable': True},\n",
       "  {'wrapperType': 'track',\n",
       "   'kind': 'song',\n",
       "   'artistId': 585049785,\n",
       "   'collectionId': 941431731,\n",
       "   'trackId': 941431741,\n",
       "   'artistName': 'Don Kalavera',\n",
       "   'collectionName': 'Kongreso Zombi',\n",
       "   'trackName': 'Breaked Bad',\n",
       "   'collectionCensoredName': 'Kongreso Zombi',\n",
       "   'trackCensoredName': 'Breaked Bad',\n",
       "   'artistViewUrl': 'https://itunes.apple.com/us/artist/don-kalavera/585049785?uo=4',\n",
       "   'collectionViewUrl': 'https://itunes.apple.com/us/album/breaked-bad/941431731?i=941431741&uo=4',\n",
       "   'trackViewUrl': 'https://itunes.apple.com/us/album/breaked-bad/941431731?i=941431741&uo=4',\n",
       "   'previewUrl': 'https://audio-ssl.itunes.apple.com/apple-assets-us-std-000001/Music3/v4/c5/96/5b/c5965b30-6280-15f6-3de7-279618ea8339/mzaf_7720668265457610552.plus.aac.p.m4a',\n",
       "   'artworkUrl30': 'https://is5-ssl.mzstatic.com/image/thumb/Music5/v4/07/72/83/07728337-e094-ba87-9361-2da88bc75fd7/source/30x30bb.jpg',\n",
       "   'artworkUrl60': 'https://is5-ssl.mzstatic.com/image/thumb/Music5/v4/07/72/83/07728337-e094-ba87-9361-2da88bc75fd7/source/60x60bb.jpg',\n",
       "   'artworkUrl100': 'https://is5-ssl.mzstatic.com/image/thumb/Music5/v4/07/72/83/07728337-e094-ba87-9361-2da88bc75fd7/source/100x100bb.jpg',\n",
       "   'collectionPrice': 7.99,\n",
       "   'trackPrice': 1.29,\n",
       "   'releaseDate': '2014-11-18T08:00:00Z',\n",
       "   'collectionExplicitness': 'explicit',\n",
       "   'trackExplicitness': 'explicit',\n",
       "   'discCount': 1,\n",
       "   'discNumber': 1,\n",
       "   'trackCount': 16,\n",
       "   'trackNumber': 3,\n",
       "   'trackTimeMillis': 193825,\n",
       "   'country': 'USA',\n",
       "   'currency': 'USD',\n",
       "   'primaryGenreName': 'Hip-Hop/Rap',\n",
       "   'contentAdvisoryRating': 'Explicit',\n",
       "   'isStreamable': True}]}"
      ]
     },
     "execution_count": 52,
     "metadata": {},
     "output_type": "execute_result"
    }
   ],
   "source": [
    "json_obj"
   ]
  },
  {
   "cell_type": "code",
   "execution_count": null,
   "metadata": {},
   "outputs": [
    {
     "name": "stdout",
     "output_type": "stream",
     "text": [
      "A Milli  by  Lil Wayne \n",
      " Tha Carter III \n",
      "\n",
      "A Milli  by  Lil Wayne \n",
      " Tha Carter III \n",
      "\n",
      "A Milli (feat. Bueno)  by  Lil Wayne \n",
      " Back to the Future \n",
      "\n",
      "A Milli (feat. Gekko G)  by  D.J. GANG & Lil Wayne \n",
      " Still Major \n",
      "\n",
      "Versátil  by  BZ \n",
      " Versátil - Single \n",
      "\n",
      "A Milli Lil Wayne Dedication  by  600$elly \n",
      " A Milli Lil Wayne Dedication - Single \n",
      "\n",
      "A Milli  by  Lil Wayne \n",
      " Skiing Workout Mix \n",
      "\n",
      "Salimos a Buscarte  by  San Benito \n",
      " La Nueva Religion - EP \n",
      "\n",
      "Fires (feat. Bipolar Sunshine)  by  Shadez The Misfit \n",
      " Ne Plus Ultra - EP \n",
      "\n",
      "Breaked Bad  by  Don Kalavera \n",
      " Kongreso Zombi \n",
      "\n"
     ]
    }
   ],
   "source": [
    "\n",
    "for i in range(len(json_obj[\"results\"])):\n",
    "    print(json_obj[\"results\"][i][\"trackName\"], \" by \", json_obj[\"results\"][i][\"artistName\"], \"\\n\", \n",
    "         json_obj[\"results\"][i][\"collectionName\"], \"\\n\")\n",
    "    \n",
    "\n",
    "jsonIndex = input(\"Enter result index: \")\n",
    "\n",
    "if jsonIndex is \"\":\n",
    "    jsonIndex = 0\n",
    "\n",
    "jsonIndex = int(jsonIndex)\n",
    "print(jsonIndex)"
   ]
  },
  {
   "cell_type": "code",
   "execution_count": 45,
   "metadata": {},
   "outputs": [
    {
     "name": "stdout",
     "output_type": "stream",
     "text": [
      "https://is5-ssl.mzstatic.com/image/thumb/Music/v4/f7/6a/0b/f76a0b19-e704-cd2d-bd8c-ba941d5ab26a/source/800x800bb.jpg\n"
     ]
    }
   ],
   "source": [
    "imageURL = json_obj[\"results\"][jsonIndex][\"artworkUrl100\"]\n",
    "imageURL = imageURL.replace(\"100x100\", \"800x800\")\n",
    "\n",
    "print(imageURL)\n",
    "\n",
    "#imageArt = requests.get(imageURL)\n",
    "\n",
    "imageData = urlopen(imageURL)  \n",
    "imageArt = imageData.read()"
   ]
  },
  {
   "cell_type": "code",
   "execution_count": 46,
   "metadata": {},
   "outputs": [
    {
     "name": "stderr",
     "output_type": "stream",
     "text": [
      "Non standard genre name: Hip-Hop/Rap\n"
     ]
    }
   ],
   "source": [
    "audiofile = eyed3.load(listOfMp3s[songIndex])\n",
    "\n",
    "\n",
    "audiofile.tag.artist = json_obj[\"results\"][jsonIndex][\"artistName\"]\n",
    "audiofile.tag.album = json_obj[\"results\"][jsonIndex][\"collectionName\"]\n",
    "audiofile.tag.title = json_obj[\"results\"][jsonIndex][\"trackName\"]\n",
    "audiofile.tag.track_num = (json_obj[\"results\"][jsonIndex][\"trackNumber\"], json_obj[\"results\"][jsonIndex][\"trackCount\"])\n",
    "audiofile.tag.images.remove(u'')\n",
    "audiofile.tag.images.set(1, imageArt , \"image/jpeg\" ,u\"Description\")\n",
    "audiofile.tag.genre = json_obj[\"results\"][jsonIndex][\"primaryGenreName\"]\n",
    "\n",
    "# ADD YEAR OF RELEASE, MORE TAG STUFF = MORE BETTER\n",
    "\n",
    "try:\n",
    "    audiofile.tag.album_artist = json_obj[\"results\"][jsonIndex][\"collectionArtistName\"]\n",
    "except:\n",
    "    audiofile.tag.album_artist = json_obj[\"results\"][jsonIndex][\"artistName\"]\n",
    "\n",
    "\n",
    "audiofile.tag.save(backup=False)\n"
   ]
  },
  {
   "cell_type": "code",
   "execution_count": 47,
   "metadata": {},
   "outputs": [
    {
     "name": "stdout",
     "output_type": "stream",
     "text": [
      "A Milli\n",
      "Lil Wayne\n"
     ]
    }
   ],
   "source": [
    "print(audiofile.tag.title)\n",
    "print(audiofile.tag.album_artist)"
   ]
  },
  {
   "cell_type": "code",
   "execution_count": null,
   "metadata": {},
   "outputs": [],
   "source": []
  },
  {
   "cell_type": "code",
   "execution_count": null,
   "metadata": {},
   "outputs": [],
   "source": []
  },
  {
   "cell_type": "code",
   "execution_count": null,
   "metadata": {},
   "outputs": [],
   "source": []
  },
  {
   "cell_type": "code",
   "execution_count": null,
   "metadata": {},
   "outputs": [],
   "source": []
  },
  {
   "cell_type": "code",
   "execution_count": null,
   "metadata": {},
   "outputs": [],
   "source": []
  }
 ],
 "metadata": {
  "kernelspec": {
   "display_name": "Python 3",
   "language": "python",
   "name": "python3"
  },
  "language_info": {
   "codemirror_mode": {
    "name": "ipython",
    "version": 3
   },
   "file_extension": ".py",
   "mimetype": "text/x-python",
   "name": "python",
   "nbconvert_exporter": "python",
   "pygments_lexer": "ipython3",
   "version": "3.7.0"
  }
 },
 "nbformat": 4,
 "nbformat_minor": 2
}
