{
 "cells": [
  {
   "cell_type": "code",
   "execution_count": 79,
   "metadata": {},
   "outputs": [],
   "source": [
    "import numpy\n",
    "import urllib ## should use urllib.request for urlopen\n",
    "import ast\n",
    "import json\n",
    "import os\n",
    "import eyed3\n",
    "import sys\n",
    "import re\n",
    "\n",
    "from urllib.request import urlopen\n",
    "\n",
    "from PIL import Image\n",
    "import requests\n",
    "from io import BytesIO"
   ]
  },
  {
   "cell_type": "code",
   "execution_count": 80,
   "metadata": {},
   "outputs": [
    {
     "name": "stdout",
     "output_type": "stream",
     "text": [
      "Enter seach term: leroy sanchez cry me a river\n"
     ]
    }
   ],
   "source": [
    "songName = input(\"Enter seach term: \")\n",
    "songName = songName.replace(\" \", \"+\")"
   ]
  },
  {
   "cell_type": "code",
   "execution_count": 81,
   "metadata": {},
   "outputs": [],
   "source": [
    "#data = [d for d in data if 'user/ageInSeconds' in d and d['user/ageInSeconds'] < 60*60*24*365*100]\n",
    "ituneURL = urllib.request.urlopen(\"https://itunes.apple.com/search?term=\"+songName+\"&limit=25&entity=song\")"
   ]
  },
  {
   "cell_type": "code",
   "execution_count": 82,
   "metadata": {},
   "outputs": [],
   "source": [
    "d = ituneURL.read()"
   ]
  },
  {
   "cell_type": "code",
   "execution_count": 83,
   "metadata": {},
   "outputs": [
    {
     "data": {
      "text/plain": [
       "b'\\n\\n\\n{\\n \"resultCount\":1,\\n \"results\": [\\n{\"wrapperType\":\"track\", \"kind\":\"song\", \"artistId\":413510575, \"collectionId\":1345444324, \"trackId\":1345444680, \"artistName\":\"Leroy Sanchez\", \"collectionName\":\"Cry Me a River - Single\", \"trackName\":\"Cry Me a River\", \"collectionCensoredName\":\"Cry Me a River - Single\", \"trackCensoredName\":\"Cry Me a River\", \"artistViewUrl\":\"https://itunes.apple.com/us/artist/leroy-sanchez/413510575?uo=4\", \"collectionViewUrl\":\"https://itunes.apple.com/us/album/cry-me-a-river/1345444324?i=1345444680&uo=4\", \"trackViewUrl\":\"https://itunes.apple.com/us/album/cry-me-a-river/1345444324?i=1345444680&uo=4\", \\n\"previewUrl\":\"https://audio-ssl.itunes.apple.com/apple-assets-us-std-000001/AudioPreview128/v4/c5/b3/bf/c5b3bf3f-0334-ccfa-68bd-965fd2c49d2c/mzaf_4281813829852804992.plus.aac.p.m4a\", \"artworkUrl30\":\"https://is5-ssl.mzstatic.com/image/thumb/Music128/v4/7c/18/42/7c184295-e807-e55e-f479-28e2ad776f53/source/30x30bb.jpg\", \"artworkUrl60\":\"https://is5-ssl.mzstatic.com/image/thumb/Music128/v4/7c/18/42/7c184295-e807-e55e-f479-28e2ad776f53/source/60x60bb.jpg\", \"artworkUrl100\":\"https://is5-ssl.mzstatic.com/image/thumb/Music128/v4/7c/18/42/7c184295-e807-e55e-f479-28e2ad776f53/source/100x100bb.jpg\", \"collectionPrice\":0.99, \"trackPrice\":0.99, \"releaseDate\":\"2018-02-04T08:00:00Z\", \"collectionExplicitness\":\"notExplicit\", \"trackExplicitness\":\"notExplicit\", \"discCount\":1, \"discNumber\":1, \"trackCount\":1, \"trackNumber\":1, \"trackTimeMillis\":213699, \"country\":\"USA\", \"currency\":\"USD\", \"primaryGenreName\":\"Pop\", \"isStreamable\":true}]\\n}\\n\\n\\n'"
      ]
     },
     "execution_count": 83,
     "metadata": {},
     "output_type": "execute_result"
    }
   ],
   "source": [
    "d"
   ]
  },
  {
   "cell_type": "code",
   "execution_count": 84,
   "metadata": {},
   "outputs": [],
   "source": [
    "encoding = ituneURL.info().get_content_charset('utf-8')\n",
    "json_obj = json.loads(d.decode(encoding))"
   ]
  },
  {
   "cell_type": "code",
   "execution_count": 85,
   "metadata": {},
   "outputs": [
    {
     "data": {
      "text/plain": [
       "{'resultCount': 1,\n",
       " 'results': [{'wrapperType': 'track',\n",
       "   'kind': 'song',\n",
       "   'artistId': 413510575,\n",
       "   'collectionId': 1345444324,\n",
       "   'trackId': 1345444680,\n",
       "   'artistName': 'Leroy Sanchez',\n",
       "   'collectionName': 'Cry Me a River - Single',\n",
       "   'trackName': 'Cry Me a River',\n",
       "   'collectionCensoredName': 'Cry Me a River - Single',\n",
       "   'trackCensoredName': 'Cry Me a River',\n",
       "   'artistViewUrl': 'https://itunes.apple.com/us/artist/leroy-sanchez/413510575?uo=4',\n",
       "   'collectionViewUrl': 'https://itunes.apple.com/us/album/cry-me-a-river/1345444324?i=1345444680&uo=4',\n",
       "   'trackViewUrl': 'https://itunes.apple.com/us/album/cry-me-a-river/1345444324?i=1345444680&uo=4',\n",
       "   'previewUrl': 'https://audio-ssl.itunes.apple.com/apple-assets-us-std-000001/AudioPreview128/v4/c5/b3/bf/c5b3bf3f-0334-ccfa-68bd-965fd2c49d2c/mzaf_4281813829852804992.plus.aac.p.m4a',\n",
       "   'artworkUrl30': 'https://is5-ssl.mzstatic.com/image/thumb/Music128/v4/7c/18/42/7c184295-e807-e55e-f479-28e2ad776f53/source/30x30bb.jpg',\n",
       "   'artworkUrl60': 'https://is5-ssl.mzstatic.com/image/thumb/Music128/v4/7c/18/42/7c184295-e807-e55e-f479-28e2ad776f53/source/60x60bb.jpg',\n",
       "   'artworkUrl100': 'https://is5-ssl.mzstatic.com/image/thumb/Music128/v4/7c/18/42/7c184295-e807-e55e-f479-28e2ad776f53/source/100x100bb.jpg',\n",
       "   'collectionPrice': 0.99,\n",
       "   'trackPrice': 0.99,\n",
       "   'releaseDate': '2018-02-04T08:00:00Z',\n",
       "   'collectionExplicitness': 'notExplicit',\n",
       "   'trackExplicitness': 'notExplicit',\n",
       "   'discCount': 1,\n",
       "   'discNumber': 1,\n",
       "   'trackCount': 1,\n",
       "   'trackNumber': 1,\n",
       "   'trackTimeMillis': 213699,\n",
       "   'country': 'USA',\n",
       "   'currency': 'USD',\n",
       "   'primaryGenreName': 'Pop',\n",
       "   'isStreamable': True}]}"
      ]
     },
     "execution_count": 85,
     "metadata": {},
     "output_type": "execute_result"
    }
   ],
   "source": [
    "json_obj"
   ]
  },
  {
   "cell_type": "code",
   "execution_count": 86,
   "metadata": {},
   "outputs": [
    {
     "name": "stdout",
     "output_type": "stream",
     "text": [
      "Cry Me a River  by  Leroy Sanchez\n",
      "Enter result index: 0\n"
     ]
    }
   ],
   "source": [
    "\n",
    "for i in range(len(json_obj[\"results\"])):\n",
    "    print(json_obj[\"results\"][i][\"trackName\"], \" by \", json_obj[\"results\"][i][\"artistName\"] )\n",
    "    \n",
    "\n",
    "jsonIndex = int(input(\"Enter result index: \"))"
   ]
  },
  {
   "cell_type": "code",
   "execution_count": 87,
   "metadata": {},
   "outputs": [],
   "source": [
    "imageURL = json_obj[\"results\"][jsonIndex][\"artworkUrl100\"]\n",
    "imageURL = imageURL.replace(\"100x100\", \"800x800\")\n",
    "\n",
    "#print(imageURL)\n",
    "\n",
    "#imageArt = requests.get(imageURL)\n",
    "\n",
    "imageData = urlopen(imageURL)  \n",
    "imageArt = imageData.read()"
   ]
  },
  {
   "cell_type": "code",
   "execution_count": 88,
   "metadata": {},
   "outputs": [
    {
     "name": "stdout",
     "output_type": "stream",
     "text": [
      "['.git', '.ipynb_checkpoints', 'A Cappella.mp3', 'fly.mp3', 'James Arthur - Can I Be Him (Official Music Video).mp3', 'Julia Michaels - Anxiety (Audio) ft. Selena Gomez.mp3', 'JUSTIN TIMBERLAKE - Cry Me A River (Available on Spotify!).mp3', 'Kanye West - Good Morning.mp3', 'Kanye West - Homecoming.mp3', 'main.ipynb', 'Music Thang.ipynb', 'README.md', 'Redbone Childish Gambino (Lyrics).mp3', 'Runaway - Khalid Talya Parx Lyrics.mp3', 'Somebody To Love (Remastered).mp3', 'Stoto - Late Night.mp3']\n"
     ]
    }
   ],
   "source": [
    "files = os.listdir(\".\")\n",
    "print(files)"
   ]
  },
  {
   "cell_type": "code",
   "execution_count": 89,
   "metadata": {},
   "outputs": [],
   "source": [
    "f = re.compile('.*.mp3')\n",
    "listOfMp3s = list(filter(f.match, files))"
   ]
  },
  {
   "cell_type": "code",
   "execution_count": 90,
   "metadata": {},
   "outputs": [
    {
     "data": {
      "text/plain": [
       "re.compile(r'.*.mp3', re.UNICODE)"
      ]
     },
     "execution_count": 90,
     "metadata": {},
     "output_type": "execute_result"
    }
   ],
   "source": [
    "f"
   ]
  },
  {
   "cell_type": "code",
   "execution_count": 91,
   "metadata": {},
   "outputs": [
    {
     "name": "stdout",
     "output_type": "stream",
     "text": [
      "A Cappella.mp3\n",
      "fly.mp3\n",
      "James Arthur - Can I Be Him (Official Music Video).mp3\n",
      "Julia Michaels - Anxiety (Audio) ft. Selena Gomez.mp3\n",
      "JUSTIN TIMBERLAKE - Cry Me A River (Available on Spotify!).mp3\n",
      "Kanye West - Good Morning.mp3\n",
      "Kanye West - Homecoming.mp3\n",
      "Redbone Childish Gambino (Lyrics).mp3\n",
      "Runaway - Khalid Talya Parx Lyrics.mp3\n",
      "Somebody To Love (Remastered).mp3\n",
      "Stoto - Late Night.mp3\n",
      "Enter song index 4\n"
     ]
    }
   ],
   "source": [
    "for i in listOfMp3s:\n",
    "    print(i)\n",
    "    \n",
    "songIndex = int(input(\"Enter song index \"))"
   ]
  },
  {
   "cell_type": "code",
   "execution_count": 92,
   "metadata": {},
   "outputs": [
    {
     "data": {
      "text/plain": [
       "'JUSTIN TIMBERLAKE - Cry Me A River (Available on Spotify!).mp3'"
      ]
     },
     "execution_count": 92,
     "metadata": {},
     "output_type": "execute_result"
    }
   ],
   "source": [
    "listOfMp3s[songIndex]"
   ]
  },
  {
   "cell_type": "code",
   "execution_count": 93,
   "metadata": {},
   "outputs": [],
   "source": [
    "# t = eyed3.id3.Tag()\n",
    "# t.parse(\"./friends.mp3\")\n",
    "audiofile = eyed3.load(listOfMp3s[songIndex])\n",
    "\n",
    "audiofile.tag.artist = json_obj[\"results\"][jsonIndex][\"artistName\"]\n",
    "audiofile.tag.album = json_obj[\"results\"][jsonIndex][\"collectionName\"]\n",
    "audiofile.tag.album_artist = json_obj[\"results\"][jsonIndex][\"artistName\"]\n",
    "audiofile.tag.title = json_obj[\"results\"][jsonIndex][\"trackName\"]\n",
    "audiofile.tag.track_num = (json_obj[\"results\"][jsonIndex][\"trackCount\"], json_obj[\"results\"][jsonIndex][\"trackNumber\"])\n",
    "\n",
    "audiofile.tag.images.set(3, imageArt , \"image/jpeg\" ,u\"Description\")\n",
    "\n",
    "audiofile.tag.save(backup=False)\n"
   ]
  },
  {
   "cell_type": "code",
   "execution_count": 94,
   "metadata": {},
   "outputs": [
    {
     "name": "stdout",
     "output_type": "stream",
     "text": [
      "Leroy Sanchez\n"
     ]
    }
   ],
   "source": [
    "print(audiofile.tag.artist)"
   ]
  },
  {
   "cell_type": "code",
   "execution_count": null,
   "metadata": {},
   "outputs": [],
   "source": []
  },
  {
   "cell_type": "code",
   "execution_count": null,
   "metadata": {},
   "outputs": [],
   "source": []
  },
  {
   "cell_type": "code",
   "execution_count": null,
   "metadata": {},
   "outputs": [],
   "source": []
  }
 ],
 "metadata": {
  "kernelspec": {
   "display_name": "Python 3",
   "language": "python",
   "name": "python3"
  },
  "language_info": {
   "codemirror_mode": {
    "name": "ipython",
    "version": 3
   },
   "file_extension": ".py",
   "mimetype": "text/x-python",
   "name": "python",
   "nbconvert_exporter": "python",
   "pygments_lexer": "ipython3",
   "version": "3.7.0"
  }
 },
 "nbformat": 4,
 "nbformat_minor": 2
}
